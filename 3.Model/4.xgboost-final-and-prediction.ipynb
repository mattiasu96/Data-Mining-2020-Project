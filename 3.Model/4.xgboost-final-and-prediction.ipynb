{
 "cells": [
  {
   "cell_type": "markdown",
   "metadata": {},
   "source": [
    "# XGBoost proposed model\n",
    "\n",
    "The purpose of this notebook is to present our choosen model. We tried to finetune our model on a fixed validation set using the SITE_ID split test hoping in better performances, but we weren't able to achieve them. \n",
    "\n",
    "We didn't apply cross-validation using the SITE_ID split criteria because this would have led to unbalanced targets in the folds. This could have led to having zero positive targets in the fold, thus making impossible to compute metrics such as precision and recall on that folder."
   ]
  },
  {
   "cell_type": "code",
   "execution_count": 114,
   "metadata": {},
   "outputs": [],
   "source": [
    "import pandas as pd\n",
    "import numpy as np\n",
    "import xgboost as xgb\n",
    "import seaborn as sns\n",
    "\n",
    "from sklearn.model_selection import train_test_split\n",
    "from sklearn.metrics import confusion_matrix\n",
    "from sklearn.metrics import recall_score\n",
    "from sklearn.metrics import precision_score\n",
    "from sklearn.metrics import precision_recall_curve\n",
    "from sklearn.metrics import f1_score\n",
    "from sklearn.metrics import roc_curve\n",
    "from sklearn.metrics import auc\n",
    "from sklearn.metrics import average_precision_score\n",
    "\n",
    "from sklearn.model_selection import StratifiedKFold\n",
    "from sklearn.model_selection import cross_val_score\n",
    "\n",
    "from numpy import argmax\n",
    "\n",
    "import sys\n",
    "import warnings\n",
    "warnings.filterwarnings('ignore')\n",
    "sys.path.append('..')\n"
   ]
  },
  {
   "cell_type": "code",
   "execution_count": null,
   "metadata": {},
   "outputs": [],
   "source": [
    "from helper import data_container"
   ]
  },
  {
   "cell_type": "markdown",
   "metadata": {},
   "source": [
    "# Support functions"
   ]
  },
  {
   "cell_type": "code",
   "execution_count": 115,
   "metadata": {
    "_cell_guid": "b1076dfc-b9ad-4769-8c92-a6c4dae69d19",
    "_uuid": "8f2839f25d086af736a60e9eeb907d3b93b6e0e5"
   },
   "outputs": [],
   "source": [
    "def plot_feature_importance(importance,names,model_type):\n",
    "\n",
    "    #Create arrays from feature importance and feature names\n",
    "    feature_importance = np.array(importance)\n",
    "    feature_names = np.array(names)\n",
    "\n",
    "    #Create a DataFrame using a Dictionary\n",
    "    data={'feature_names':feature_names,'feature_importance':feature_importance}\n",
    "    fi_df = pd.DataFrame(data)\n",
    "\n",
    "    #Sort the DataFrame in order decreasing feature importance\n",
    "    fi_df.sort_values(by=['feature_importance'], ascending=False,inplace=True)\n",
    "\n",
    "    #Define size of bar plot\n",
    "    plt.figure(figsize=(15,25))\n",
    "    #Plot Searborn bar chart\n",
    "    sns.barplot(x=fi_df['feature_importance'], y=fi_df['feature_names'])\n",
    "    #Add chart labels\n",
    "    plt.title(model_type + 'FEATURE IMPORTANCE')\n",
    "    plt.xlabel('FEATURE IMPORTANCE')\n",
    "    plt.ylabel('FEATURE NAMES')\n",
    "    \n",
    "\n",
    "def plot_roc_curve(y, predictions, ax):\n",
    "    fpr, tpr, thresholds = roc_curve(y, predictions)\n",
    "    ax.plot([0,1], [0,1], linestyle='--', label='xgboost')\n",
    "    ax.plot(fpr, tpr, marker='.', label='Logistic')\n",
    "    ax.set_xlabel('False Positive Rate')\n",
    "    ax.set_ylabel('True Positive Rate')\n",
    "    ax.legend()\n",
    "    ax.plot()\n",
    "\n",
    "def plot_precision_recall_curve(y, predictions, ax):\n",
    "    precision, recall, thresholds = precision_recall_curve(y, predictions)\n",
    "    no_skill = len(y[y==1]) / len(y)\n",
    "    ax.plot([0,1], [no_skill,no_skill], linestyle='--', label='No Skill')\n",
    "    ax.plot(recall, precision, marker='.', label='xgboost')\n",
    "    ax.set_xlabel('recall')\n",
    "    ax.set_ylabel('precision')\n",
    "    ax.legend()\n",
    "    ax.plot()\n",
    "\n",
    "    \n",
    "rectifier = lambda x, thr: 0 if x < thr else 1"
   ]
  },
  {
   "cell_type": "code",
   "execution_count": 116,
   "metadata": {},
   "outputs": [],
   "source": [
    "# Model parameters\n",
    "MAX_TREE_DEPTH = 8\n",
    "TREE_METHOD = 'gpu_hist' ##train on gpu is considerably faster \n",
    "ITERATIONS = 1000 #num_boost_round\n",
    "SUBSAMPLE = 0.6\n",
    "REGULARIZATION = 0.1\n",
    "GAMMA = 2\n",
    "POS_WEIGHT = 1\n",
    "EARLY_STOP = 10\n",
    "\n",
    "\n"
   ]
  },
  {
   "cell_type": "markdown",
   "metadata": {},
   "source": [
    "# Dataset preparation"
   ]
  },
  {
   "cell_type": "code",
   "execution_count": 117,
   "metadata": {},
   "outputs": [],
   "source": [
    "train = pd.read_csv('../dataset/train.csv')\n",
    "container = data_container(train, drop=False)"
   ]
  },
  {
   "cell_type": "code",
   "execution_count": 118,
   "metadata": {},
   "outputs": [],
   "source": [
    "## split in train and test\n",
    "train_df = container.compute_14d_features()\n",
    "\n",
    "next_col=[col for col in train_df.columns if 'next' in col and not 'aircon' in col]\n",
    "aircon_sum_prev = ['aircon_sum_wo_prev14d', 'mean_temperature_prev14d']\n",
    "\n",
    "to_drop = next_col + aircon_sum_prev + ['ge_min_persistance_prev14d', 'ge_mean_persistance_prev14d'] +['year']\n",
    "\n",
    "train_df = train_df.drop(columns=to_drop)\n",
    "train_final_model = train_df.copy()\n",
    "#X_train, X_test, y_train, y_test = train_test_split(X, y, test_size=0.2, random_state=1)\n",
    "\n",
    "\n",
    "\n",
    "\n"
   ]
  },
  {
   "cell_type": "code",
   "execution_count": 119,
   "metadata": {},
   "outputs": [
    {
     "name": "stdout",
     "output_type": "stream",
     "text": [
      "409\n",
      "1662\n"
     ]
    }
   ],
   "source": [
    "np.random.seed(seed=321)\n",
    "\n",
    "SITE_ID  = train_df['SITE_ID'].unique()\n",
    "\n",
    "np.random.shuffle(SITE_ID)\n",
    "\n",
    "oldout_ID = [x for x in SITE_ID if np.random.uniform(0, 1) < 0.2]\n",
    "\n",
    "oldout_set =  train_df[train_df['SITE_ID'].isin(oldout_ID)]\n",
    "print(len(oldout_set['SITE_ID'].unique()))\n",
    "\n",
    "train_df = train_df[~train_df['SITE_ID'].isin(oldout_ID)]\n",
    "print(len(train_df['SITE_ID'].unique()))"
   ]
  },
  {
   "cell_type": "code",
   "execution_count": 120,
   "metadata": {},
   "outputs": [],
   "source": [
    "y_train = train_df['aircon_sum_target_next14d']\n",
    "X_train = train_df.drop(columns=['SITE_ID', 'DATE', 'aircon_sum_target_next14d'])\n",
    "y_test = oldout_set[['SITE_ID','DATE','N_TRANSPORTED_SITES','aircon_sum_target_next14d']]\n",
    "X_test = oldout_set.drop(columns=['aircon_sum_target_next14d', 'DATE', 'SITE_ID'])"
   ]
  },
  {
   "cell_type": "code",
   "execution_count": 121,
   "metadata": {},
   "outputs": [
    {
     "name": "stdout",
     "output_type": "stream",
     "text": [
      "(498600, 56)\n",
      "(498600,)\n",
      "(122700, 56)\n",
      "(122700, 4)\n"
     ]
    }
   ],
   "source": [
    "print(X_train.shape)\n",
    "print(y_train.shape)\n",
    "print(X_test.shape)\n",
    "print(y_test.shape)"
   ]
  },
  {
   "cell_type": "code",
   "execution_count": 122,
   "metadata": {},
   "outputs": [],
   "source": [
    "params = {'tree_method': 'gpu_hist',\n",
    "          'max_depth': 4,\n",
    "          'alpha': 0,\n",
    "          'gamma': 0.5,\n",
    "          'subsample': 0.6,\n",
    "          'scale_pos_weight': 180,\n",
    "          'learning_rate': 0.4, \n",
    "          'verbosity': 3, \n",
    "          'objective':'binary:logistic',\n",
    "          'predictor' : 'gpu_predictor',\n",
    "          'n_estimators' : 7,\n",
    "          'lambda' : 2,\n",
    "          \n",
    "          }\n",
    "\n",
    "model = xgb.XGBClassifier(**params)\n",
    "\n",
    "\n",
    "#Learning Rate:  0.4\n",
    "#Gamma:  0\n",
    "#Max Depth:  10\n",
    "#Subsample:  0.6\n",
    "#Max Features at Split:  0.8\n",
    "#Alpha:  1\n",
    "#Lambda:  1\n",
    "#Minimum Sum of the Instance Weight Hessian to Make a Child:  1\n",
    "#Number of Trees:  2000\n",
    "#model = xgb.XGBClassifier(**params)\n"
   ]
  },
  {
   "cell_type": "code",
   "execution_count": 123,
   "metadata": {},
   "outputs": [
    {
     "name": "stdout",
     "output_type": "stream",
     "text": [
      "[16:41:26] DEBUG: /workspace/src/tree/updater_gpu_hist.cu:1167: [GPU Hist]: Configure\n",
      "[16:41:26] DEBUG: /workspace/src/common/device_helpers.cu:38: Running nccl init on: 9.0\n",
      "[16:41:26] ======== Monitor: DenseCuts ========\n",
      "[16:41:26] Init: 0.001012s, 1 calls @ 1012us\n",
      "\n",
      "[16:41:26] ======== Monitor: HistogramCuts ========\n",
      "[0]\tvalidation_0-aucpr:0.00956\n",
      "Will train until validation_0-aucpr hasn't improved in 200 rounds.\n",
      "[1]\tvalidation_0-aucpr:0.01364\n",
      "[2]\tvalidation_0-aucpr:0.01519\n",
      "[3]\tvalidation_0-aucpr:0.01664\n",
      "[4]\tvalidation_0-aucpr:0.01519\n",
      "[5]\tvalidation_0-aucpr:0.01584\n",
      "[6]\tvalidation_0-aucpr:0.01530\n"
     ]
    }
   ],
   "source": [
    "model.fit(X_train, y_train, eval_metric='aucpr',eval_set=[(X_test, y_test['aircon_sum_target_next14d'])], early_stopping_rounds= 200)\n",
    "test_predictions = model.predict_proba(X_test)[:, 1]"
   ]
  },
  {
   "cell_type": "markdown",
   "metadata": {},
   "source": [
    "# Test prediction"
   ]
  },
  {
   "cell_type": "code",
   "execution_count": 124,
   "metadata": {},
   "outputs": [],
   "source": [
    "y_test['prediction'] = test_predictions"
   ]
  },
  {
   "cell_type": "code",
   "execution_count": 125,
   "metadata": {},
   "outputs": [
    {
     "name": "stdout",
     "output_type": "stream",
     "text": [
      "f1 score:  0.06053268765133172\n",
      "precision:  0.03863987635239567\n",
      "recall: 0.13966480446927373\n",
      "auc precision-recall:  0.016581329162568582\n"
     ]
    },
    {
     "data": {
      "image/png": "[encoded data removed]",
      "text/plain": [
       "<Figure size 1584x1440 with 5 Axes>"
      ]
     },
     "metadata": {
      "needs_background": "light"
     },
     "output_type": "display_data"
    }
   ],
   "source": [
    "from matplotlib import pyplot as plt\n",
    "\n",
    "f, axs = f, axs = plt.subplots(figsize= (22,20), ncols=2, nrows=2)\n",
    "plot_roc_curve(y_test['aircon_sum_target_next14d'], test_predictions, axs[0][0])\n",
    "precision, recall, thresholds = precision_recall_curve(y_test['aircon_sum_target_next14d'], test_predictions)\n",
    "plot_precision_recall_curve(y_test['aircon_sum_target_next14d'], test_predictions, axs[0][1])\n",
    "\n",
    "\n",
    "fscore = (2 * precision * recall) / (precision + recall)\n",
    "fscore = fscore[~np.isnan(fscore)]\n",
    "ix = argmax(fscore)\n",
    "max_fscore = fscore[ix]\n",
    "best_thr = thresholds[ix]\n",
    "rectified = np.array([rectifier(x, best_thr) for x in test_predictions])\n",
    "\n",
    "\n",
    "confusion_matrix = pd.crosstab(y_test['aircon_sum_target_next14d'], rectified, rownames=['Actual'], colnames=['Predicted'])\n",
    "heatmap_title = 'confusion matrix for best threshold of : {thr:.3f}'\n",
    "sns.heatmap(confusion_matrix, annot=True, fmt='d', square=True, cmap='Blues',\n",
    "            ax=axs[1][0], robust=True, linewidth=2).set(title=heatmap_title.format(thr = best_thr));\n",
    "\n",
    "\n",
    "max_precision = precision[ix]\n",
    "max_recall = recall[ix]\n",
    "\n",
    "x_bar = np.arange(3)\n",
    "y_bar = np.array([max_precision, max_recall, max_fscore])\n",
    "axs[1,1].set_ylim(0, 1)\n",
    "axs[1,1].bar(x_bar, y_bar)\n",
    "axs[1,1].set_xticks([0, 1, 2])\n",
    "axs[1,1].set_xticklabels(['precision', 'recall', 'f1 score']);\n",
    "\n",
    "\n",
    "print('f1 score: ', max_fscore)\n",
    "print('precision: ', max_precision)\n",
    "print('recall:', max_recall)\n",
    "print('auc precision-recall: ', auc(recall, precision))"
   ]
  },
  {
   "cell_type": "code",
   "execution_count": 126,
   "metadata": {},
   "outputs": [],
   "source": [
    "y_test['DATE'] = y_test['DATE'].astype(str)"
   ]
  },
  {
   "cell_type": "code",
   "execution_count": 127,
   "metadata": {},
   "outputs": [
    {
     "name": "stdout",
     "output_type": "stream",
     "text": [
      "0.10276190476190476\n"
     ]
    }
   ],
   "source": [
    "recalls = []\n",
    "\n",
    "for date, daily_df in y_test.groupby(['DATE']):\n",
    "    daily_df=daily_df.copy()\n",
    "    daily_df['final_prediction'] = 0\n",
    "    daily_df['NORM_N_TRANSPORTED_SITES' ] = daily_df['N_TRANSPORTED_SITES' ]/daily_df['N_TRANSPORTED_SITES'].max()\n",
    "    daily_df['weighted_prediction' ] = 0.8* daily_df['prediction' ] + 0.2*daily_df['NORM_N_TRANSPORTED_SITES']\n",
    "    daily_df = daily_df.sort_values(by=['weighted_prediction' ], ascending=False)\n",
    "    daily_df = daily_df.reset_index(drop=True)\n",
    "    daily_df.loc[0:10, 'final_prediction' ] = 1\n",
    "    daily_recall = recall_score(y_true=daily_df['aircon_sum_target_next14d' ], y_pred=daily_df['final_prediction' ])\n",
    "    recalls.append(daily_recall)\n",
    "final_metric= np.mean(recalls)\n",
    "print(final_metric)\n",
    "\n",
    "\n"
   ]
  },
  {
   "cell_type": "markdown",
   "metadata": {},
   "source": [
    "# Final model train and prediction of submission"
   ]
  },
  {
   "cell_type": "code",
   "execution_count": 128,
   "metadata": {},
   "outputs": [],
   "source": [
    "test_container = data_container(pd.read_csv('/kaggle/input/dmtm-dataset/test.csv'), drop=False)"
   ]
  },
  {
   "cell_type": "code",
   "execution_count": 129,
   "metadata": {},
   "outputs": [
    {
     "name": "stdout",
     "output_type": "stream",
     "text": [
      "Index(['N_TRANSPORTED_SITES', 'GEOGRAPHIC_CLUSTER_K_0',\n",
      "       'GEOGRAPHIC_CLUSTER_K_1', 'GEOGRAPHIC_CLUSTER_K_2',\n",
      "       'GEOGRAPHIC_CLUSTER_K_3', 'GEOGRAPHIC_CLUSTER_K_4',\n",
      "       'GEOGRAPHIC_CLUSTER_K_5', 'GEOGRAPHIC_CLUSTER_K_6',\n",
      "       'GEOGRAPHIC_CLUSTER_K_7', 'GEOGRAPHIC_CLUSTER_K_8',\n",
      "       'GEOGRAPHIC_CLUSTER_K_9', 'equipment_sum_alarms_prev14d',\n",
      "       'fire/smoke_sum_alarms_prev14d', 'ge_sum_alarms_prev14d',\n",
      "       'power_sum_alarms_prev14d', 'temperature_sum_alarms_prev14d',\n",
      "       'skew_equipment_alarms_prev14d', 'skew_fire/smoke_alarms_prev14d',\n",
      "       'skew_ge_alarms_prev14d', 'skew_power_alarms_prev14d',\n",
      "       'skew_temperature_alarms_prev14d', 'kurt_equipment_alarms_prev14d',\n",
      "       'kurt_fire/smoke_alarms_prev14d', 'kurt_ge_alarms_prev14d',\n",
      "       'kurt_power_alarms_prev14d', 'kurt_temperature_alarms_prev14d',\n",
      "       'max_temperature_prev14d', 'min_temperature_prev14d',\n",
      "       'max_rain_mm_prev14d', 'min_rain_mm_prev14d', 'mean_rain_mm_prev14d',\n",
      "       'max_humidity_prev14d', 'min_humidity_prev14d', 'mean_humidity_prev14d',\n",
      "       'max_wind_speed_prev14d', 'min_wind_speed_prev14d',\n",
      "       'mean_wind_speed_prev14d', 'max_pressure_prev14d',\n",
      "       'min_pressure_prev14d', 'mean_pressure_prev14d',\n",
      "       'equipment_max_persistance_prev14d',\n",
      "       'equipment_min_persistance_prev14d',\n",
      "       'equipment_mean_persistance_prev14d',\n",
      "       'fire/smoke_max_persistance_prev14d',\n",
      "       'fire/smoke_min_persistance_prev14d',\n",
      "       'fire/smoke_mean_persistance_prev14d', 'ge_max_persistance_prev14d',\n",
      "       'power_max_persistance_prev14d', 'power_min_persistance_prev14d',\n",
      "       'power_mean_persistance_prev14d', 'temperature_max_persistance_prev14d',\n",
      "       'temperature_min_persistance_prev14d',\n",
      "       'temperature_mean_persistance_prev14d', 'month', 'day_sin', 'day_cos'],\n",
      "      dtype='object')\n",
      "[16:41:44] DEBUG: /workspace/src/tree/updater_gpu_hist.cu:1167: [GPU Hist]: Configure\n",
      "[16:41:44] DEBUG: /workspace/src/common/device_helpers.cu:38: Running nccl init on: 9.0\n",
      "[16:41:44] ======== Monitor: DenseCuts ========\n",
      "[16:41:44] Init: 0.001033s, 1 calls @ 1033us\n",
      "\n",
      "[16:41:44] ======== Monitor: HistogramCuts ========\n"
     ]
    },
    {
     "data": {
      "text/plain": [
       "XGBClassifier(alpha=0, base_score=0.5, booster=None, colsample_bylevel=1,\n",
       "              colsample_bynode=1, colsample_bytree=1, gamma=0.5, gpu_id=0,\n",
       "              importance_type='gain', interaction_constraints=None, lambda=2,\n",
       "              learning_rate=0.4, max_delta_step=0, max_depth=4,\n",
       "              min_child_weight=1, missing=nan, monotone_constraints=None,\n",
       "              n_estimators=7, n_jobs=0, num_parallel_tree=1,\n",
       "              objective='binary:logistic', predictor='gpu_predictor',\n",
       "              random_state=0, reg_alpha=0, reg_lambda=2, scale_pos_weight=180,\n",
       "              subsample=0.6, tree_method='gpu_hist', validate_parameters=False,\n",
       "              verbosity=3)"
      ]
     },
     "execution_count": 129,
     "metadata": {},
     "output_type": "execute_result"
    }
   ],
   "source": [
    "X = train_final_model.drop(columns=['SITE_ID', 'DATE', 'aircon_sum_target_next14d'])\n",
    "y = train_final_model['aircon_sum_target_next14d']\n",
    "\n",
    "print(X.columns)\n",
    "\n",
    "xgb_model = xgb.XGBClassifier(**params)\n",
    "xgb_model.fit(X, y)"
   ]
  },
  {
   "cell_type": "code",
   "execution_count": 130,
   "metadata": {},
   "outputs": [],
   "source": [
    "\n",
    "test = test_container.compute_14d_features()\n",
    "submission = test[['SITE_ID', 'DATE']]\n",
    "test = test.drop(columns=to_drop)\n"
   ]
  },
  {
   "cell_type": "code",
   "execution_count": 131,
   "metadata": {},
   "outputs": [],
   "source": [
    "submission['prediction'] = xgb_model.predict_proba(test.drop(columns=['SITE_ID', 'DATE']))[:,1]\n",
    "\n",
    "submission.to_csv('submission.csv', index=False)"
   ]
  },
  {
   "cell_type": "code",
   "execution_count": 132,
   "metadata": {},
   "outputs": [
    {
     "data": {
      "text/html": [
       "<div>\n",
       "<style scoped>\n",
       "    .dataframe tbody tr th:only-of-type {\n",
       "        vertical-align: middle;\n",
       "    }\n",
       "\n",
       "    .dataframe tbody tr th {\n",
       "        vertical-align: top;\n",
       "    }\n",
       "\n",
       "    .dataframe thead th {\n",
       "        text-align: right;\n",
       "    }\n",
       "</style>\n",
       "<table border=\"1\" class=\"dataframe\">\n",
       "  <thead>\n",
       "    <tr style=\"text-align: right;\">\n",
       "      <th></th>\n",
       "      <th>SITE_ID</th>\n",
       "      <th>DATE</th>\n",
       "      <th>prediction</th>\n",
       "    </tr>\n",
       "  </thead>\n",
       "  <tbody>\n",
       "    <tr>\n",
       "      <th>0</th>\n",
       "      <td>858</td>\n",
       "      <td>2019-04-10</td>\n",
       "      <td>0.372249</td>\n",
       "    </tr>\n",
       "    <tr>\n",
       "      <th>1</th>\n",
       "      <td>858</td>\n",
       "      <td>2019-04-11</td>\n",
       "      <td>0.570206</td>\n",
       "    </tr>\n",
       "    <tr>\n",
       "      <th>2</th>\n",
       "      <td>858</td>\n",
       "      <td>2019-04-12</td>\n",
       "      <td>0.504844</td>\n",
       "    </tr>\n",
       "    <tr>\n",
       "      <th>3</th>\n",
       "      <td>858</td>\n",
       "      <td>2019-04-13</td>\n",
       "      <td>0.504844</td>\n",
       "    </tr>\n",
       "    <tr>\n",
       "      <th>4</th>\n",
       "      <td>858</td>\n",
       "      <td>2019-04-14</td>\n",
       "      <td>0.504844</td>\n",
       "    </tr>\n",
       "  </tbody>\n",
       "</table>\n",
       "</div>"
      ],
      "text/plain": [
       "   SITE_ID       DATE  prediction\n",
       "0      858 2019-04-10    0.372249\n",
       "1      858 2019-04-11    0.570206\n",
       "2      858 2019-04-12    0.504844\n",
       "3      858 2019-04-13    0.504844\n",
       "4      858 2019-04-14    0.504844"
      ]
     },
     "execution_count": 132,
     "metadata": {},
     "output_type": "execute_result"
    }
   ],
   "source": [
    "submission.head(5)"
   ]
  }
 ],
 "metadata": {
  "kernelspec": {
   "display_name": "Python 3",
   "language": "python",
   "name": "python3"
  },
  "language_info": {
   "codemirror_mode": {
    "name": "ipython",
    "version": 3
   },
   "file_extension": ".py",
   "mimetype": "text/x-python",
   "name": "python",
   "nbconvert_exporter": "python",
   "pygments_lexer": "ipython3",
   "version": "3.8.5"
  }
 },
 "nbformat": 4,
 "nbformat_minor": 4
}
