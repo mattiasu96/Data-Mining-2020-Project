{
 "cells": [
  {
   "cell_type": "code",
   "execution_count": null,
   "metadata": {
    "id": "JUw_co-Tkzif"
   },
   "outputs": [],
   "source": [
    "#Prima di eseguire questo script sarebbe opportuno controllare che le date sono ordinate in ordine crescente\r\n",
    "\r\n",
    "weather_names =['_temperature_','_rain_mm_','_humidity_','_wind_speed_','_pressure_']\r\n",
    "\r\n",
    "for name in weather_names:\r\n",
    "  df['max'+name+'prev14d']=df['max'+name+'prev7d']\r\n",
    "  df['max'+name+'prev7d_shift']=df['max'+name+'prev7d'].shift(7, axis = 0)\r\n",
    "  df.loc[df.DATE>'2019-04-16', 'max'+name+'prev14d'] = df[df['DATE']>'2019-04-16'][['max'+name+'prev7d','max'+name+'prev7d_shift']].max(axis=1)\r\n",
    "  df=df.drop(columns=['max'+name+'prev7d_shift'])\r\n",
    "\r\n",
    "  df['min'+name+'prev14d']=df['min'+name+'prev7d']\r\n",
    "  df['min'+name+'prev7d_shift']=df['min'+name+'prev7d'].shift(7, axis = 0)\r\n",
    "  df.loc[df.DATE>'2019-04-16', 'min'+name+'prev14d'] = df[df['DATE']>'2019-04-16'][['min'+name+'prev7d','min'+name+'prev7d_shift']].min(axis=1)\r\n",
    "  df=df.drop(columns=['min'+name+'prev7d_shift'])\r\n",
    "\r\n",
    "  df['mean'+name+'prev14d']=df['mean'+name+'prev7d']\r\n",
    "  df['mean'+name+'prev7d_shift']=df['mean'+name+'prev7d'].shift(7, axis = 0)\r\n",
    "  df.loc[df.DATE>'2019-04-16', 'mean'+name+'prev14d'] = df[df['DATE']>'2019-04-16'][['mean'+name+'prev7d','mean'+name+'prev7d_shift']].mean(axis=1)\r\n",
    "  df=df.drop(columns=['mean'+name+'prev7d_shift'])\r\n",
    "\r\n",
    "persistance_names =['equipment','fire/smoke','ge','power','temperature']\r\n",
    "\r\n",
    "for name in persistance_names:\r\n",
    "  df[name+'_max_persistance_prev14d']=df[name+'_max_persistance_prev7d']\r\n",
    "  df[name+'_max_persistance_prev7d_shift']=df[name+'_max_persistance_prev7d'].shift(7, axis = 0)\r\n",
    "  df.loc[df.DATE>'2019-04-16', name+'_max_persistance_prev14d'] = df[df['DATE']>'2019-04-16'][[name+'_max_persistance_prev7d',name+'_max_persistance_prev7d_shift']].max(axis=1)\r\n",
    "  df=df.drop(columns=[name+'_max_persistance_prev7d_shift'])\r\n",
    "  \r\n",
    "  df[name+'_min_persistance_prev14d']=df[name+'_min_persistance_prev7d']\r\n",
    "  df[name+'_min_persistance_prev7d_shift']=df[name+'_min_persistance_prev7d'].shift(7, axis = 0)\r\n",
    "  df.loc[df.DATE>'2019-04-16', name+'_min_persistance_prev14d'] = df[df['DATE']>'2019-04-16'][[name+'_min_persistance_prev7d',name+'_min_persistance_prev7d_shift']].min(axis=1)\r\n",
    "  df=df.drop(columns=[name+'_min_persistance_prev7d_shift'])\r\n",
    "\r\n",
    "  df[name+'_mean_persistance_prev14d']=df[name+'_mean_persistance_prev7d']\r\n",
    "  df[name+'_mean_persistance_prev7d_shift']=df[name+'_mean_persistance_prev7d'].shift(7, axis = 0)\r\n",
    "  df.loc[df.DATE>'2019-04-16', name+'_mean_persistance_prev14d'] = df[df['DATE']>'2019-04-16'][[name+'_mean_persistance_prev7d',name+'_mean_persistance_prev7d_shift']].mean(axis=1)\r\n",
    "  df=df.drop(columns=[name+'_mean_persistance_prev7d_shift'])\r\n",
    "\r\n",
    "df.head()"
   ]
  }
 ],
 "metadata": {
  "colab": {
   "authorship_tag": "ABX9TyM7oXeyvWBwvln2Rf20ssk7",
   "collapsed_sections": [],
   "name": "Features_14d.ipynb",
   "provenance": []
  },
  "kernelspec": {
   "display_name": "Python 3",
   "language": "python",
   "name": "python3"
  },
  "language_info": {
   "codemirror_mode": {
    "name": "ipython",
    "version": 3
   },
   "file_extension": ".py",
   "mimetype": "text/x-python",
   "name": "python",
   "nbconvert_exporter": "python",
   "pygments_lexer": "ipython3",
   "version": "3.8.5"
  }
 },
 "nbformat": 4,
 "nbformat_minor": 4
}
