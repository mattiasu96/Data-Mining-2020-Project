{
 "cells": [
  {
   "cell_type": "markdown",
   "metadata": {
    "id": "Y6P66pUC2JW_"
   },
   "source": [
    "#Dataset preparation"
   ]
  },
  {
   "cell_type": "code",
   "execution_count": 11,
   "metadata": {
    "executionInfo": {
     "elapsed": 2206,
     "status": "ok",
     "timestamp": 1608227971952,
     "user": {
      "displayName": "Paolo Fornoni",
      "photoUrl": "",
      "userId": "10853131839845702707"
     },
     "user_tz": -60
    },
    "id": "C29y8qiD2F9l"
   },
   "outputs": [],
   "source": [
    "import numpy as np\r\n",
    "import pandas as pd\r\n",
    "\r\n",
    "from sklearn.ensemble import RandomForestClassifier\r\n",
    "from sklearn.ensemble import RandomForestRegressor\r\n",
    "from sklearn.model_selection import StratifiedKFold\r\n",
    "from sklearn.model_selection import cross_val_score\r\n",
    "from sklearn.preprocessing import StandardScaler\r\n",
    "from sklearn.model_selection import train_test_split\r\n",
    "from sklearn import metrics\r\n",
    "from sklearn.model_selection import cross_validate\r\n",
    "import seaborn as sns\r\n",
    "import matplotlib.pyplot as plt\r\n",
    "\r\n",
    "from sklearn.metrics import roc_curve\r\n",
    "from sklearn.metrics import auc\r\n",
    "from sklearn.metrics import average_precision_score\r\n",
    "from sklearn.metrics import confusion_matrix\r\n",
    "from sklearn.metrics import recall_score\r\n",
    "from sklearn.metrics import precision_score\r\n",
    "from sklearn.metrics import precision_recall_curve\r\n",
    "from sklearn.metrics import f1_score\r\n",
    "from sklearn import model_selection\r\n",
    "\r\n",
    "from numpy import argmax"
   ]
  },
  {
   "cell_type": "code",
   "execution_count": 12,
   "metadata": {
    "colab": {
     "base_uri": "https://localhost:8080/"
    },
    "executionInfo": {
     "elapsed": 8229,
     "status": "ok",
     "timestamp": 1608227977985,
     "user": {
      "displayName": "Paolo Fornoni",
      "photoUrl": "",
      "userId": "10853131839845702707"
     },
     "user_tz": -60
    },
    "id": "s2mGmaP42Mjh",
    "outputId": "f9207e5f-2912-439f-eef2-57cfd5788d9a"
   },
   "outputs": [
    {
     "name": "stdout",
     "output_type": "stream",
     "text": [
      "Requirement already satisfied: hyperas in /usr/local/lib/python3.6/dist-packages (0.4.1)\n",
      "Requirement already satisfied: keras in /usr/local/lib/python3.6/dist-packages (from hyperas) (2.4.3)\n",
      "Requirement already satisfied: jupyter in /usr/local/lib/python3.6/dist-packages (from hyperas) (1.0.0)\n",
      "Requirement already satisfied: nbformat in /usr/local/lib/python3.6/dist-packages (from hyperas) (5.0.8)\n",
      "Requirement already satisfied: nbconvert in /usr/local/lib/python3.6/dist-packages (from hyperas) (5.6.1)\n",
      "Requirement already satisfied: entrypoints in /usr/local/lib/python3.6/dist-packages (from hyperas) (0.3)\n",
      "Requirement already satisfied: hyperopt in /usr/local/lib/python3.6/dist-packages (from hyperas) (0.1.2)\n",
      "Requirement already satisfied: scipy>=0.14 in /usr/local/lib/python3.6/dist-packages (from keras->hyperas) (1.4.1)\n",
      "Requirement already satisfied: pyyaml in /usr/local/lib/python3.6/dist-packages (from keras->hyperas) (3.13)\n",
      "Requirement already satisfied: numpy>=1.9.1 in /usr/local/lib/python3.6/dist-packages (from keras->hyperas) (1.19.4)\n",
      "Requirement already satisfied: h5py in /usr/local/lib/python3.6/dist-packages (from keras->hyperas) (2.10.0)\n",
      "Requirement already satisfied: qtconsole in /usr/local/lib/python3.6/dist-packages (from jupyter->hyperas) (5.0.1)\n",
      "Requirement already satisfied: ipywidgets in /usr/local/lib/python3.6/dist-packages (from jupyter->hyperas) (7.5.1)\n",
      "Requirement already satisfied: jupyter-console in /usr/local/lib/python3.6/dist-packages (from jupyter->hyperas) (5.2.0)\n",
      "Requirement already satisfied: notebook in /usr/local/lib/python3.6/dist-packages (from jupyter->hyperas) (5.3.1)\n",
      "Requirement already satisfied: ipykernel in /usr/local/lib/python3.6/dist-packages (from jupyter->hyperas) (4.10.1)\n",
      "Requirement already satisfied: traitlets>=4.1 in /usr/local/lib/python3.6/dist-packages (from nbformat->hyperas) (4.3.3)\n",
      "Requirement already satisfied: ipython-genutils in /usr/local/lib/python3.6/dist-packages (from nbformat->hyperas) (0.2.0)\n",
      "Requirement already satisfied: jupyter-core in /usr/local/lib/python3.6/dist-packages (from nbformat->hyperas) (4.7.0)\n",
      "Requirement already satisfied: jsonschema!=2.5.0,>=2.4 in /usr/local/lib/python3.6/dist-packages (from nbformat->hyperas) (2.6.0)\n",
      "Requirement already satisfied: defusedxml in /usr/local/lib/python3.6/dist-packages (from nbconvert->hyperas) (0.6.0)\n",
      "Requirement already satisfied: pandocfilters>=1.4.1 in /usr/local/lib/python3.6/dist-packages (from nbconvert->hyperas) (1.4.3)\n",
      "Requirement already satisfied: bleach in /usr/local/lib/python3.6/dist-packages (from nbconvert->hyperas) (3.2.1)\n",
      "Requirement already satisfied: mistune<2,>=0.8.1 in /usr/local/lib/python3.6/dist-packages (from nbconvert->hyperas) (0.8.4)\n",
      "Requirement already satisfied: pygments in /usr/local/lib/python3.6/dist-packages (from nbconvert->hyperas) (2.6.1)\n",
      "Requirement already satisfied: jinja2>=2.4 in /usr/local/lib/python3.6/dist-packages (from nbconvert->hyperas) (2.11.2)\n",
      "Requirement already satisfied: testpath in /usr/local/lib/python3.6/dist-packages (from nbconvert->hyperas) (0.4.4)\n",
      "Requirement already satisfied: networkx in /usr/local/lib/python3.6/dist-packages (from hyperopt->hyperas) (2.5)\n",
      "Requirement already satisfied: six in /usr/local/lib/python3.6/dist-packages (from hyperopt->hyperas) (1.15.0)\n",
      "Requirement already satisfied: tqdm in /usr/local/lib/python3.6/dist-packages (from hyperopt->hyperas) (4.41.1)\n",
      "Requirement already satisfied: pymongo in /usr/local/lib/python3.6/dist-packages (from hyperopt->hyperas) (3.11.2)\n",
      "Requirement already satisfied: future in /usr/local/lib/python3.6/dist-packages (from hyperopt->hyperas) (0.16.0)\n",
      "Requirement already satisfied: pyzmq>=17.1 in /usr/local/lib/python3.6/dist-packages (from qtconsole->jupyter->hyperas) (20.0.0)\n",
      "Requirement already satisfied: jupyter-client>=4.1 in /usr/local/lib/python3.6/dist-packages (from qtconsole->jupyter->hyperas) (5.3.5)\n",
      "Requirement already satisfied: qtpy in /usr/local/lib/python3.6/dist-packages (from qtconsole->jupyter->hyperas) (1.9.0)\n",
      "Requirement already satisfied: ipython>=4.0.0; python_version >= \"3.3\" in /usr/local/lib/python3.6/dist-packages (from ipywidgets->jupyter->hyperas) (5.5.0)\n",
      "Requirement already satisfied: widgetsnbextension~=3.5.0 in /usr/local/lib/python3.6/dist-packages (from ipywidgets->jupyter->hyperas) (3.5.1)\n",
      "Requirement already satisfied: prompt-toolkit<2.0.0,>=1.0.0 in /usr/local/lib/python3.6/dist-packages (from jupyter-console->jupyter->hyperas) (1.0.18)\n",
      "Requirement already satisfied: tornado>=4 in /usr/local/lib/python3.6/dist-packages (from notebook->jupyter->hyperas) (5.1.1)\n",
      "Requirement already satisfied: terminado>=0.8.1 in /usr/local/lib/python3.6/dist-packages (from notebook->jupyter->hyperas) (0.9.1)\n",
      "Requirement already satisfied: Send2Trash in /usr/local/lib/python3.6/dist-packages (from notebook->jupyter->hyperas) (1.5.0)\n",
      "Requirement already satisfied: decorator in /usr/local/lib/python3.6/dist-packages (from traitlets>=4.1->nbformat->hyperas) (4.4.2)\n",
      "Requirement already satisfied: webencodings in /usr/local/lib/python3.6/dist-packages (from bleach->nbconvert->hyperas) (0.5.1)\n",
      "Requirement already satisfied: packaging in /usr/local/lib/python3.6/dist-packages (from bleach->nbconvert->hyperas) (20.8)\n",
      "Requirement already satisfied: MarkupSafe>=0.23 in /usr/local/lib/python3.6/dist-packages (from jinja2>=2.4->nbconvert->hyperas) (1.1.1)\n",
      "Requirement already satisfied: python-dateutil>=2.1 in /usr/local/lib/python3.6/dist-packages (from jupyter-client>=4.1->qtconsole->jupyter->hyperas) (2.8.1)\n",
      "Requirement already satisfied: setuptools>=18.5 in /usr/local/lib/python3.6/dist-packages (from ipython>=4.0.0; python_version >= \"3.3\"->ipywidgets->jupyter->hyperas) (50.3.2)\n",
      "Requirement already satisfied: pexpect; sys_platform != \"win32\" in /usr/local/lib/python3.6/dist-packages (from ipython>=4.0.0; python_version >= \"3.3\"->ipywidgets->jupyter->hyperas) (4.8.0)\n",
      "Requirement already satisfied: pickleshare in /usr/local/lib/python3.6/dist-packages (from ipython>=4.0.0; python_version >= \"3.3\"->ipywidgets->jupyter->hyperas) (0.7.5)\n",
      "Requirement already satisfied: simplegeneric>0.8 in /usr/local/lib/python3.6/dist-packages (from ipython>=4.0.0; python_version >= \"3.3\"->ipywidgets->jupyter->hyperas) (0.8.1)\n",
      "Requirement already satisfied: wcwidth in /usr/local/lib/python3.6/dist-packages (from prompt-toolkit<2.0.0,>=1.0.0->jupyter-console->jupyter->hyperas) (0.2.5)\n",
      "Requirement already satisfied: ptyprocess; os_name != \"nt\" in /usr/local/lib/python3.6/dist-packages (from terminado>=0.8.1->notebook->jupyter->hyperas) (0.6.0)\n",
      "Requirement already satisfied: pyparsing>=2.0.2 in /usr/local/lib/python3.6/dist-packages (from packaging->bleach->nbconvert->hyperas) (2.4.7)\n",
      "Requirement already satisfied: hyperopt in /usr/local/lib/python3.6/dist-packages (0.1.2)\n",
      "Requirement already satisfied: tqdm in /usr/local/lib/python3.6/dist-packages (from hyperopt) (4.41.1)\n",
      "Requirement already satisfied: networkx in /usr/local/lib/python3.6/dist-packages (from hyperopt) (2.5)\n",
      "Requirement already satisfied: six in /usr/local/lib/python3.6/dist-packages (from hyperopt) (1.15.0)\n",
      "Requirement already satisfied: pymongo in /usr/local/lib/python3.6/dist-packages (from hyperopt) (3.11.2)\n",
      "Requirement already satisfied: future in /usr/local/lib/python3.6/dist-packages (from hyperopt) (0.16.0)\n",
      "Requirement already satisfied: numpy in /usr/local/lib/python3.6/dist-packages (from hyperopt) (1.19.4)\n",
      "Requirement already satisfied: scipy in /usr/local/lib/python3.6/dist-packages (from hyperopt) (1.4.1)\n",
      "Requirement already satisfied: decorator>=4.3.0 in /usr/local/lib/python3.6/dist-packages (from networkx->hyperopt) (4.4.2)\n"
     ]
    }
   ],
   "source": [
    "!pip install hyperas\r\n",
    "!pip install hyperopt"
   ]
  },
  {
   "cell_type": "code",
   "execution_count": 13,
   "metadata": {
    "executionInfo": {
     "elapsed": 15022,
     "status": "ok",
     "timestamp": 1608227984786,
     "user": {
      "displayName": "Paolo Fornoni",
      "photoUrl": "",
      "userId": "10853131839845702707"
     },
     "user_tz": -60
    },
    "id": "8tsqM1ca2NQK"
   },
   "outputs": [],
   "source": [
    "df = pd.read_csv('/content/drive/MyDrive/Project/dataset/train.csv')"
   ]
  },
  {
   "cell_type": "code",
   "execution_count": 14,
   "metadata": {
    "executionInfo": {
     "elapsed": 29457,
     "status": "ok",
     "timestamp": 1608227999230,
     "user": {
      "displayName": "Paolo Fornoni",
      "photoUrl": "",
      "userId": "10853131839845702707"
     },
     "user_tz": -60
    },
    "id": "eXcgGTrm2PGL"
   },
   "outputs": [],
   "source": [
    "#Prima di eseguire questo script sarebbe opportuno controllare che le date sono ordinate in ordine crescente\r\n",
    "\r\n",
    "weather_names =['_temperature_','_rain_mm_','_humidity_','_wind_speed_','_pressure_']\r\n",
    "\r\n",
    "for name in weather_names:\r\n",
    "  df['max'+name+'prev14d']=df['max'+name+'prev7d']\r\n",
    "  df['max'+name+'prev7d_shift']=df['max'+name+'prev7d'].shift(7, axis = 0)\r\n",
    "  df.loc[df['DATE']>'2019-04-16', 'max'+name+'prev14d'] = df[df['DATE']>'2019-04-16'][['max'+name+'prev7d','max'+name+'prev7d_shift']].max(axis=1)\r\n",
    "  df=df.drop(columns=['max'+name+'prev7d_shift'])\r\n",
    "\r\n",
    "  df['min'+name+'prev14d']=df['min'+name+'prev7d']\r\n",
    "  df['min'+name+'prev7d_shift']=df['min'+name+'prev7d'].shift(7, axis = 0)\r\n",
    "  df.loc[df.DATE>'2019-04-16', 'min'+name+'prev14d'] = df[df['DATE']>'2019-04-16'][['min'+name+'prev7d','min'+name+'prev7d_shift']].min(axis=1)\r\n",
    "  df=df.drop(columns=['min'+name+'prev7d_shift'])\r\n",
    "\r\n",
    "  df['mean'+name+'prev14d']=df['mean'+name+'prev7d']\r\n",
    "  df['mean'+name+'prev7d_shift']=df['mean'+name+'prev7d'].shift(7, axis = 0)\r\n",
    "  df.loc[df.DATE>'2019-04-16', 'mean'+name+'prev14d'] = df[df['DATE']>'2019-04-16'][['mean'+name+'prev7d','mean'+name+'prev7d_shift']].mean(axis=1)\r\n",
    "  df=df.drop(columns=['mean'+name+'prev7d_shift'])\r\n",
    "\r\n",
    "persistance_names =['equipment','fire/smoke','ge','power','temperature']\r\n",
    "\r\n",
    "for name in persistance_names:\r\n",
    "  df[name+'_max_persistance_prev14d']=df[name+'_max_persistance_prev7d']\r\n",
    "  df[name+'_max_persistance_prev7d_shift']=df[name+'_max_persistance_prev7d'].shift(7, axis = 0)\r\n",
    "  df.loc[df.DATE>'2019-04-16', name+'_max_persistance_prev14d'] = df[df['DATE']>'2019-04-16'][[name+'_max_persistance_prev7d',name+'_max_persistance_prev7d_shift']].max(axis=1)\r\n",
    "  df=df.drop(columns=[name+'_max_persistance_prev7d_shift'])\r\n",
    "  \r\n",
    "  df[name+'_min_persistance_prev14d']=df[name+'_min_persistance_prev7d']\r\n",
    "  df[name+'_min_persistance_prev7d_shift']=df[name+'_min_persistance_prev7d'].shift(7, axis = 0)\r\n",
    "  df.loc[df.DATE>'2019-04-16', name+'_min_persistance_prev14d'] = df[df['DATE']>'2019-04-16'][[name+'_min_persistance_prev7d',name+'_min_persistance_prev7d_shift']].min(axis=1)\r\n",
    "  df=df.drop(columns=[name+'_min_persistance_prev7d_shift'])\r\n",
    "\r\n",
    "  df[name+'_mean_persistance_prev14d']=df[name+'_mean_persistance_prev7d']\r\n",
    "  df[name+'_mean_persistance_prev7d_shift']=df[name+'_mean_persistance_prev7d'].shift(7, axis = 0)\r\n",
    "  df.loc[df.DATE>'2019-04-16', name+'_mean_persistance_prev14d'] = df[df['DATE']>'2019-04-16'][[name+'_mean_persistance_prev7d',name+'_mean_persistance_prev7d_shift']].mean(axis=1)\r\n",
    "  df=df.drop(columns=[name+'_mean_persistance_prev7d_shift'])"
   ]
  },
  {
   "cell_type": "code",
   "execution_count": 15,
   "metadata": {
    "executionInfo": {
     "elapsed": 29472,
     "status": "ok",
     "timestamp": 1608227999248,
     "user": {
      "displayName": "Paolo Fornoni",
      "photoUrl": "",
      "userId": "10853131839845702707"
     },
     "user_tz": -60
    },
    "id": "5UptE22C2VlM"
   },
   "outputs": [],
   "source": [
    "#drop unused columns\r\n",
    "df = df.drop(columns='CELL_TYPE_TRP')\r\n",
    "df = df.drop(columns='SITE_ID')\r\n",
    "\r\n",
    "#process data feature\r\n",
    "df['DATE'] = pd.to_datetime(df['DATE'])\r\n",
    "df['month'] = df['DATE'].dt.month\r\n",
    "df['day'] = df['DATE'].dt.day\r\n",
    "df['year'] = df['DATE'].dt.year % 2019\r\n",
    "df = df.drop(columns='DATE')"
   ]
  },
  {
   "cell_type": "code",
   "execution_count": 16,
   "metadata": {
    "executionInfo": {
     "elapsed": 29469,
     "status": "ok",
     "timestamp": 1608227999251,
     "user": {
      "displayName": "Paolo Fornoni",
      "photoUrl": "",
      "userId": "10853131839845702707"
     },
     "user_tz": -60
    },
    "id": "jNF-vLo02lMy"
   },
   "outputs": [],
   "source": [
    "def plot_feature_importance(importance,names,model_type):\r\n",
    "\r\n",
    "    #Create arrays from feature importance and feature names\r\n",
    "    feature_importance = np.array(importance)\r\n",
    "    feature_names = np.array(names)\r\n",
    "\r\n",
    "    #Create a DataFrame using a Dictionary\r\n",
    "    data={'feature_names':feature_names,'feature_importance':feature_importance}\r\n",
    "    fi_df = pd.DataFrame(data)\r\n",
    "\r\n",
    "    #Sort the DataFrame in order decreasing feature importance\r\n",
    "    fi_df.sort_values(by=['feature_importance'], ascending=False,inplace=True)\r\n",
    "\r\n",
    "    #Define size of bar plot\r\n",
    "    plt.figure(figsize=(15,25))\r\n",
    "    #Plot Searborn bar chart\r\n",
    "    sns.barplot(x=fi_df['feature_importance'], y=fi_df['feature_names'])\r\n",
    "    #Add chart labels\r\n",
    "    plt.title(model_type + 'FEATURE IMPORTANCE')\r\n",
    "    plt.xlabel('FEATURE IMPORTANCE')\r\n",
    "    plt.ylabel('FEATURE NAMES')"
   ]
  },
  {
   "cell_type": "code",
   "execution_count": 17,
   "metadata": {
    "executionInfo": {
     "elapsed": 29465,
     "status": "ok",
     "timestamp": 1608227999253,
     "user": {
      "displayName": "Paolo Fornoni",
      "photoUrl": "",
      "userId": "10853131839845702707"
     },
     "user_tz": -60
    },
    "id": "OsXzhHP82mnd"
   },
   "outputs": [],
   "source": [
    "def plot_roc_curve(y, predictions, ax):\r\n",
    "    fpr, tpr, thresholds = roc_curve(y, predictions)\r\n",
    "    ax.plot([0,1], [0,1], linestyle='--')\r\n",
    "    ax.plot(fpr, tpr, marker='.', label='Random forest')\r\n",
    "    ax.set_xlabel('False Positive Rate')\r\n",
    "    ax.set_ylabel('True Positive Rate')\r\n",
    "    ax.legend()\r\n",
    "    ax.plot()\r\n",
    "\r\n",
    "def plot_precision_recall_curve(y, predictions, ax):\r\n",
    "    precision, recall, thresholds = precision_recall_curve(y, predictions)\r\n",
    "    no_skill = len(y[y==1]) / len(y)\r\n",
    "    ax.plot([0,1], [no_skill,no_skill], linestyle='--', label='No Skill')\r\n",
    "    ax.plot(recall, precision, marker='.', label='Random forest')\r\n",
    "    ax.set_xlabel('recall')\r\n",
    "    ax.set_ylabel('precision')\r\n",
    "    ax.legend()\r\n",
    "    ax.plot()\r\n",
    "\r\n",
    "def cyclical_encoding(df, col, max_val):\r\n",
    "    df[col + '_sin'] = np.sin(2 * np.pi * df[col]/max_val)\r\n",
    "    df[col + '_cos'] = np.cos(2 * np.pi * df[col]/max_val)\r\n",
    "    return df"
   ]
  },
  {
   "cell_type": "markdown",
   "metadata": {
    "id": "2VI2q2vC2rlG"
   },
   "source": [
    "#Random forest come SERGIO"
   ]
  },
  {
   "cell_type": "code",
   "execution_count": 18,
   "metadata": {
    "colab": {
     "base_uri": "https://localhost:8080/",
     "height": 484
    },
    "executionInfo": {
     "elapsed": 29457,
     "status": "ok",
     "timestamp": 1608227999257,
     "user": {
      "displayName": "Paolo Fornoni",
      "photoUrl": "",
      "userId": "10853131839845702707"
     },
     "user_tz": -60
    },
    "id": "4cm8Ux5n2nGb",
    "outputId": "a10a8ce8-b575-41ca-e85f-180b45a1e9ad"
   },
   "outputs": [
    {
     "name": "stderr",
     "output_type": "stream",
     "text": [
      "/usr/local/lib/python3.6/dist-packages/ipykernel_launcher.py:3: SettingWithCopyWarning: \n",
      "A value is trying to be set on a copy of a slice from a DataFrame.\n",
      "Try using .loc[row_indexer,col_indexer] = value instead\n",
      "\n",
      "See the caveats in the documentation: https://pandas.pydata.org/pandas-docs/stable/user_guide/indexing.html#returning-a-view-versus-a-copy\n",
      "  This is separate from the ipykernel package so we can avoid doing imports until\n",
      "/usr/local/lib/python3.6/dist-packages/ipykernel_launcher.py:21: SettingWithCopyWarning: \n",
      "A value is trying to be set on a copy of a slice from a DataFrame.\n",
      "Try using .loc[row_indexer,col_indexer] = value instead\n",
      "\n",
      "See the caveats in the documentation: https://pandas.pydata.org/pandas-docs/stable/user_guide/indexing.html#returning-a-view-versus-a-copy\n",
      "/usr/local/lib/python3.6/dist-packages/ipykernel_launcher.py:22: SettingWithCopyWarning: \n",
      "A value is trying to be set on a copy of a slice from a DataFrame.\n",
      "Try using .loc[row_indexer,col_indexer] = value instead\n",
      "\n",
      "See the caveats in the documentation: https://pandas.pydata.org/pandas-docs/stable/user_guide/indexing.html#returning-a-view-versus-a-copy\n"
     ]
    },
    {
     "data": {
      "text/html": [
       "<div>\n",
       "<style scoped>\n",
       "    .dataframe tbody tr th:only-of-type {\n",
       "        vertical-align: middle;\n",
       "    }\n",
       "\n",
       "    .dataframe tbody tr th {\n",
       "        vertical-align: top;\n",
       "    }\n",
       "\n",
       "    .dataframe thead th {\n",
       "        text-align: right;\n",
       "    }\n",
       "</style>\n",
       "<table border=\"1\" class=\"dataframe\">\n",
       "  <thead>\n",
       "    <tr style=\"text-align: right;\">\n",
       "      <th></th>\n",
       "      <th>N_TRANSPORTED_SITES</th>\n",
       "      <th>GEOGRAPHIC_CLUSTER_K_0</th>\n",
       "      <th>GEOGRAPHIC_CLUSTER_K_1</th>\n",
       "      <th>GEOGRAPHIC_CLUSTER_K_2</th>\n",
       "      <th>GEOGRAPHIC_CLUSTER_K_3</th>\n",
       "      <th>GEOGRAPHIC_CLUSTER_K_4</th>\n",
       "      <th>GEOGRAPHIC_CLUSTER_K_5</th>\n",
       "      <th>GEOGRAPHIC_CLUSTER_K_6</th>\n",
       "      <th>GEOGRAPHIC_CLUSTER_K_7</th>\n",
       "      <th>GEOGRAPHIC_CLUSTER_K_8</th>\n",
       "      <th>GEOGRAPHIC_CLUSTER_K_9</th>\n",
       "      <th>aircon_sum_wo_prev14d</th>\n",
       "      <th>aircon_sum_target_next14d</th>\n",
       "      <th>mean_temperature_f_next14d</th>\n",
       "      <th>max_temperature_f_next14d</th>\n",
       "      <th>min_temperature_f_next14d</th>\n",
       "      <th>mean_rain_mm_f_next14d</th>\n",
       "      <th>max_rain_mm_f_next14d</th>\n",
       "      <th>min_rain_mm_f_next14d</th>\n",
       "      <th>mean_humidity_f_next14d</th>\n",
       "      <th>max_humidity_f_next14d</th>\n",
       "      <th>min_humidity_f_next14d</th>\n",
       "      <th>mean_wind_speed_f_next14d</th>\n",
       "      <th>max_wind_speed_f_next14d</th>\n",
       "      <th>min_wind_speed_f_next14d</th>\n",
       "      <th>mean_pressure_f_next14d</th>\n",
       "      <th>max_pressure_f_next14d</th>\n",
       "      <th>min_pressure_f_next14d</th>\n",
       "      <th>equipment_sum_alarms_prev14d</th>\n",
       "      <th>fire/smoke_sum_alarms_prev14d</th>\n",
       "      <th>ge_sum_alarms_prev14d</th>\n",
       "      <th>power_sum_alarms_prev14d</th>\n",
       "      <th>temperature_sum_alarms_prev14d</th>\n",
       "      <th>skew_equipment_alarms_prev14d</th>\n",
       "      <th>skew_fire/smoke_alarms_prev14d</th>\n",
       "      <th>skew_ge_alarms_prev14d</th>\n",
       "      <th>skew_power_alarms_prev14d</th>\n",
       "      <th>skew_temperature_alarms_prev14d</th>\n",
       "      <th>kurt_equipment_alarms_prev14d</th>\n",
       "      <th>kurt_fire/smoke_alarms_prev14d</th>\n",
       "      <th>kurt_ge_alarms_prev14d</th>\n",
       "      <th>kurt_power_alarms_prev14d</th>\n",
       "      <th>kurt_temperature_alarms_prev14d</th>\n",
       "      <th>max_temperature_prev14d</th>\n",
       "      <th>min_temperature_prev14d</th>\n",
       "      <th>mean_temperature_prev14d</th>\n",
       "      <th>max_rain_mm_prev14d</th>\n",
       "      <th>min_rain_mm_prev14d</th>\n",
       "      <th>mean_rain_mm_prev14d</th>\n",
       "      <th>max_humidity_prev14d</th>\n",
       "      <th>min_humidity_prev14d</th>\n",
       "      <th>mean_humidity_prev14d</th>\n",
       "      <th>max_wind_speed_prev14d</th>\n",
       "      <th>min_wind_speed_prev14d</th>\n",
       "      <th>mean_wind_speed_prev14d</th>\n",
       "      <th>max_pressure_prev14d</th>\n",
       "      <th>min_pressure_prev14d</th>\n",
       "      <th>mean_pressure_prev14d</th>\n",
       "      <th>equipment_max_persistance_prev14d</th>\n",
       "      <th>equipment_min_persistance_prev14d</th>\n",
       "      <th>equipment_mean_persistance_prev14d</th>\n",
       "      <th>fire/smoke_max_persistance_prev14d</th>\n",
       "      <th>fire/smoke_min_persistance_prev14d</th>\n",
       "      <th>fire/smoke_mean_persistance_prev14d</th>\n",
       "      <th>ge_max_persistance_prev14d</th>\n",
       "      <th>ge_min_persistance_prev14d</th>\n",
       "      <th>ge_mean_persistance_prev14d</th>\n",
       "      <th>power_max_persistance_prev14d</th>\n",
       "      <th>power_min_persistance_prev14d</th>\n",
       "      <th>power_mean_persistance_prev14d</th>\n",
       "      <th>temperature_max_persistance_prev14d</th>\n",
       "      <th>temperature_min_persistance_prev14d</th>\n",
       "      <th>temperature_mean_persistance_prev14d</th>\n",
       "      <th>month</th>\n",
       "      <th>day_sin</th>\n",
       "      <th>day_cos</th>\n",
       "    </tr>\n",
       "  </thead>\n",
       "  <tbody>\n",
       "    <tr>\n",
       "      <th>0</th>\n",
       "      <td>3.0</td>\n",
       "      <td>0</td>\n",
       "      <td>0</td>\n",
       "      <td>0</td>\n",
       "      <td>0</td>\n",
       "      <td>0</td>\n",
       "      <td>0</td>\n",
       "      <td>0</td>\n",
       "      <td>0</td>\n",
       "      <td>1</td>\n",
       "      <td>0</td>\n",
       "      <td>0.0</td>\n",
       "      <td>0</td>\n",
       "      <td>8.00</td>\n",
       "      <td>12.0</td>\n",
       "      <td>5.0</td>\n",
       "      <td>4.79</td>\n",
       "      <td>19.6</td>\n",
       "      <td>0.1</td>\n",
       "      <td>74.29</td>\n",
       "      <td>89.0</td>\n",
       "      <td>58.0</td>\n",
       "      <td>12.86</td>\n",
       "      <td>17.0</td>\n",
       "      <td>5.0</td>\n",
       "      <td>1020.71</td>\n",
       "      <td>1028.0</td>\n",
       "      <td>1009.0</td>\n",
       "      <td>0.0</td>\n",
       "      <td>0.0</td>\n",
       "      <td>0.0</td>\n",
       "      <td>0.0</td>\n",
       "      <td>0.0</td>\n",
       "      <td>0.0</td>\n",
       "      <td>0.0</td>\n",
       "      <td>0.0</td>\n",
       "      <td>0.0</td>\n",
       "      <td>0.0</td>\n",
       "      <td>-1.212308</td>\n",
       "      <td>-1.212308</td>\n",
       "      <td>-1.212308</td>\n",
       "      <td>-1.212308</td>\n",
       "      <td>-1.212308</td>\n",
       "      <td>14.0</td>\n",
       "      <td>6.0</td>\n",
       "      <td>10.29</td>\n",
       "      <td>8.5</td>\n",
       "      <td>0.0</td>\n",
       "      <td>1.33</td>\n",
       "      <td>81.0</td>\n",
       "      <td>45.0</td>\n",
       "      <td>62.71</td>\n",
       "      <td>16.0</td>\n",
       "      <td>5.0</td>\n",
       "      <td>11.43</td>\n",
       "      <td>1022.0</td>\n",
       "      <td>1006.0</td>\n",
       "      <td>1013.00</td>\n",
       "      <td>0.0</td>\n",
       "      <td>0.0</td>\n",
       "      <td>0.0</td>\n",
       "      <td>0.0</td>\n",
       "      <td>0.0</td>\n",
       "      <td>0.0</td>\n",
       "      <td>0.0</td>\n",
       "      <td>0.0</td>\n",
       "      <td>0.0</td>\n",
       "      <td>0.0</td>\n",
       "      <td>0.0</td>\n",
       "      <td>0.0</td>\n",
       "      <td>0.0</td>\n",
       "      <td>0.0</td>\n",
       "      <td>0.0</td>\n",
       "      <td>4</td>\n",
       "      <td>0.951057</td>\n",
       "      <td>-0.309017</td>\n",
       "    </tr>\n",
       "    <tr>\n",
       "      <th>1</th>\n",
       "      <td>3.0</td>\n",
       "      <td>0</td>\n",
       "      <td>0</td>\n",
       "      <td>0</td>\n",
       "      <td>0</td>\n",
       "      <td>0</td>\n",
       "      <td>0</td>\n",
       "      <td>0</td>\n",
       "      <td>0</td>\n",
       "      <td>1</td>\n",
       "      <td>0</td>\n",
       "      <td>0.0</td>\n",
       "      <td>0</td>\n",
       "      <td>8.50</td>\n",
       "      <td>16.0</td>\n",
       "      <td>5.0</td>\n",
       "      <td>3.52</td>\n",
       "      <td>12.5</td>\n",
       "      <td>0.1</td>\n",
       "      <td>72.93</td>\n",
       "      <td>89.0</td>\n",
       "      <td>58.0</td>\n",
       "      <td>12.57</td>\n",
       "      <td>17.0</td>\n",
       "      <td>5.0</td>\n",
       "      <td>1021.71</td>\n",
       "      <td>1028.0</td>\n",
       "      <td>1013.0</td>\n",
       "      <td>0.0</td>\n",
       "      <td>0.0</td>\n",
       "      <td>0.0</td>\n",
       "      <td>0.0</td>\n",
       "      <td>0.0</td>\n",
       "      <td>0.0</td>\n",
       "      <td>0.0</td>\n",
       "      <td>0.0</td>\n",
       "      <td>0.0</td>\n",
       "      <td>0.0</td>\n",
       "      <td>-1.212308</td>\n",
       "      <td>-1.212308</td>\n",
       "      <td>-1.212308</td>\n",
       "      <td>-1.212308</td>\n",
       "      <td>-1.212308</td>\n",
       "      <td>16.0</td>\n",
       "      <td>9.0</td>\n",
       "      <td>11.71</td>\n",
       "      <td>8.5</td>\n",
       "      <td>0.0</td>\n",
       "      <td>1.90</td>\n",
       "      <td>81.0</td>\n",
       "      <td>51.0</td>\n",
       "      <td>66.43</td>\n",
       "      <td>16.0</td>\n",
       "      <td>5.0</td>\n",
       "      <td>11.57</td>\n",
       "      <td>1017.0</td>\n",
       "      <td>1006.0</td>\n",
       "      <td>1010.86</td>\n",
       "      <td>0.0</td>\n",
       "      <td>0.0</td>\n",
       "      <td>0.0</td>\n",
       "      <td>0.0</td>\n",
       "      <td>0.0</td>\n",
       "      <td>0.0</td>\n",
       "      <td>0.0</td>\n",
       "      <td>0.0</td>\n",
       "      <td>0.0</td>\n",
       "      <td>0.0</td>\n",
       "      <td>0.0</td>\n",
       "      <td>0.0</td>\n",
       "      <td>0.0</td>\n",
       "      <td>0.0</td>\n",
       "      <td>0.0</td>\n",
       "      <td>4</td>\n",
       "      <td>0.866025</td>\n",
       "      <td>-0.500000</td>\n",
       "    </tr>\n",
       "    <tr>\n",
       "      <th>2</th>\n",
       "      <td>3.0</td>\n",
       "      <td>0</td>\n",
       "      <td>0</td>\n",
       "      <td>0</td>\n",
       "      <td>0</td>\n",
       "      <td>0</td>\n",
       "      <td>0</td>\n",
       "      <td>0</td>\n",
       "      <td>0</td>\n",
       "      <td>1</td>\n",
       "      <td>0</td>\n",
       "      <td>0.0</td>\n",
       "      <td>0</td>\n",
       "      <td>9.36</td>\n",
       "      <td>20.0</td>\n",
       "      <td>5.0</td>\n",
       "      <td>3.63</td>\n",
       "      <td>12.5</td>\n",
       "      <td>0.1</td>\n",
       "      <td>72.00</td>\n",
       "      <td>89.0</td>\n",
       "      <td>58.0</td>\n",
       "      <td>12.29</td>\n",
       "      <td>17.0</td>\n",
       "      <td>5.0</td>\n",
       "      <td>1022.14</td>\n",
       "      <td>1028.0</td>\n",
       "      <td>1016.0</td>\n",
       "      <td>0.0</td>\n",
       "      <td>0.0</td>\n",
       "      <td>0.0</td>\n",
       "      <td>0.0</td>\n",
       "      <td>0.0</td>\n",
       "      <td>0.0</td>\n",
       "      <td>0.0</td>\n",
       "      <td>0.0</td>\n",
       "      <td>0.0</td>\n",
       "      <td>0.0</td>\n",
       "      <td>-1.212308</td>\n",
       "      <td>-1.212308</td>\n",
       "      <td>-1.212308</td>\n",
       "      <td>-1.212308</td>\n",
       "      <td>-1.212308</td>\n",
       "      <td>16.0</td>\n",
       "      <td>9.0</td>\n",
       "      <td>11.57</td>\n",
       "      <td>19.6</td>\n",
       "      <td>0.0</td>\n",
       "      <td>4.70</td>\n",
       "      <td>88.0</td>\n",
       "      <td>58.0</td>\n",
       "      <td>71.71</td>\n",
       "      <td>16.0</td>\n",
       "      <td>5.0</td>\n",
       "      <td>11.71</td>\n",
       "      <td>1015.0</td>\n",
       "      <td>1006.0</td>\n",
       "      <td>1009.71</td>\n",
       "      <td>0.0</td>\n",
       "      <td>0.0</td>\n",
       "      <td>0.0</td>\n",
       "      <td>0.0</td>\n",
       "      <td>0.0</td>\n",
       "      <td>0.0</td>\n",
       "      <td>0.0</td>\n",
       "      <td>0.0</td>\n",
       "      <td>0.0</td>\n",
       "      <td>0.0</td>\n",
       "      <td>0.0</td>\n",
       "      <td>0.0</td>\n",
       "      <td>0.0</td>\n",
       "      <td>0.0</td>\n",
       "      <td>0.0</td>\n",
       "      <td>4</td>\n",
       "      <td>0.743145</td>\n",
       "      <td>-0.669131</td>\n",
       "    </tr>\n",
       "    <tr>\n",
       "      <th>3</th>\n",
       "      <td>3.0</td>\n",
       "      <td>0</td>\n",
       "      <td>0</td>\n",
       "      <td>0</td>\n",
       "      <td>0</td>\n",
       "      <td>0</td>\n",
       "      <td>0</td>\n",
       "      <td>0</td>\n",
       "      <td>0</td>\n",
       "      <td>1</td>\n",
       "      <td>0</td>\n",
       "      <td>0.0</td>\n",
       "      <td>0</td>\n",
       "      <td>10.57</td>\n",
       "      <td>22.0</td>\n",
       "      <td>5.0</td>\n",
       "      <td>3.40</td>\n",
       "      <td>12.5</td>\n",
       "      <td>0.1</td>\n",
       "      <td>70.07</td>\n",
       "      <td>89.0</td>\n",
       "      <td>58.0</td>\n",
       "      <td>12.14</td>\n",
       "      <td>17.0</td>\n",
       "      <td>5.0</td>\n",
       "      <td>1021.86</td>\n",
       "      <td>1028.0</td>\n",
       "      <td>1012.0</td>\n",
       "      <td>0.0</td>\n",
       "      <td>0.0</td>\n",
       "      <td>0.0</td>\n",
       "      <td>0.0</td>\n",
       "      <td>0.0</td>\n",
       "      <td>0.0</td>\n",
       "      <td>0.0</td>\n",
       "      <td>0.0</td>\n",
       "      <td>0.0</td>\n",
       "      <td>0.0</td>\n",
       "      <td>-1.212308</td>\n",
       "      <td>-1.212308</td>\n",
       "      <td>-1.212308</td>\n",
       "      <td>-1.212308</td>\n",
       "      <td>-1.212308</td>\n",
       "      <td>16.0</td>\n",
       "      <td>8.0</td>\n",
       "      <td>11.29</td>\n",
       "      <td>19.6</td>\n",
       "      <td>0.0</td>\n",
       "      <td>4.77</td>\n",
       "      <td>88.0</td>\n",
       "      <td>58.0</td>\n",
       "      <td>74.29</td>\n",
       "      <td>16.0</td>\n",
       "      <td>5.0</td>\n",
       "      <td>11.43</td>\n",
       "      <td>1013.0</td>\n",
       "      <td>1006.0</td>\n",
       "      <td>1009.43</td>\n",
       "      <td>0.0</td>\n",
       "      <td>0.0</td>\n",
       "      <td>0.0</td>\n",
       "      <td>0.0</td>\n",
       "      <td>0.0</td>\n",
       "      <td>0.0</td>\n",
       "      <td>0.0</td>\n",
       "      <td>0.0</td>\n",
       "      <td>0.0</td>\n",
       "      <td>0.0</td>\n",
       "      <td>0.0</td>\n",
       "      <td>0.0</td>\n",
       "      <td>0.0</td>\n",
       "      <td>0.0</td>\n",
       "      <td>0.0</td>\n",
       "      <td>4</td>\n",
       "      <td>0.587785</td>\n",
       "      <td>-0.809017</td>\n",
       "    </tr>\n",
       "    <tr>\n",
       "      <th>4</th>\n",
       "      <td>3.0</td>\n",
       "      <td>0</td>\n",
       "      <td>0</td>\n",
       "      <td>0</td>\n",
       "      <td>0</td>\n",
       "      <td>0</td>\n",
       "      <td>0</td>\n",
       "      <td>0</td>\n",
       "      <td>0</td>\n",
       "      <td>1</td>\n",
       "      <td>0</td>\n",
       "      <td>0.0</td>\n",
       "      <td>0</td>\n",
       "      <td>11.50</td>\n",
       "      <td>22.0</td>\n",
       "      <td>5.0</td>\n",
       "      <td>3.49</td>\n",
       "      <td>12.5</td>\n",
       "      <td>0.1</td>\n",
       "      <td>69.07</td>\n",
       "      <td>89.0</td>\n",
       "      <td>58.0</td>\n",
       "      <td>11.64</td>\n",
       "      <td>17.0</td>\n",
       "      <td>5.0</td>\n",
       "      <td>1021.29</td>\n",
       "      <td>1028.0</td>\n",
       "      <td>1009.0</td>\n",
       "      <td>0.0</td>\n",
       "      <td>0.0</td>\n",
       "      <td>0.0</td>\n",
       "      <td>0.0</td>\n",
       "      <td>0.0</td>\n",
       "      <td>0.0</td>\n",
       "      <td>0.0</td>\n",
       "      <td>0.0</td>\n",
       "      <td>0.0</td>\n",
       "      <td>0.0</td>\n",
       "      <td>-1.212308</td>\n",
       "      <td>-1.212308</td>\n",
       "      <td>-1.212308</td>\n",
       "      <td>-1.212308</td>\n",
       "      <td>-1.212308</td>\n",
       "      <td>16.0</td>\n",
       "      <td>5.0</td>\n",
       "      <td>10.57</td>\n",
       "      <td>19.6</td>\n",
       "      <td>0.3</td>\n",
       "      <td>5.39</td>\n",
       "      <td>88.0</td>\n",
       "      <td>58.0</td>\n",
       "      <td>77.29</td>\n",
       "      <td>15.0</td>\n",
       "      <td>5.0</td>\n",
       "      <td>10.86</td>\n",
       "      <td>1016.0</td>\n",
       "      <td>1006.0</td>\n",
       "      <td>1009.86</td>\n",
       "      <td>0.0</td>\n",
       "      <td>0.0</td>\n",
       "      <td>0.0</td>\n",
       "      <td>0.0</td>\n",
       "      <td>0.0</td>\n",
       "      <td>0.0</td>\n",
       "      <td>0.0</td>\n",
       "      <td>0.0</td>\n",
       "      <td>0.0</td>\n",
       "      <td>0.0</td>\n",
       "      <td>0.0</td>\n",
       "      <td>0.0</td>\n",
       "      <td>0.0</td>\n",
       "      <td>0.0</td>\n",
       "      <td>0.0</td>\n",
       "      <td>4</td>\n",
       "      <td>0.406737</td>\n",
       "      <td>-0.913545</td>\n",
       "    </tr>\n",
       "  </tbody>\n",
       "</table>\n",
       "</div>"
      ],
      "text/plain": [
       "   N_TRANSPORTED_SITES  GEOGRAPHIC_CLUSTER_K_0  ...   day_sin   day_cos\n",
       "0                  3.0                       0  ...  0.951057 -0.309017\n",
       "1                  3.0                       0  ...  0.866025 -0.500000\n",
       "2                  3.0                       0  ...  0.743145 -0.669131\n",
       "3                  3.0                       0  ...  0.587785 -0.809017\n",
       "4                  3.0                       0  ...  0.406737 -0.913545\n",
       "\n",
       "[5 rows x 76 columns]"
      ]
     },
     "execution_count": 18,
     "metadata": {
      "tags": []
     },
     "output_type": "execute_result"
    }
   ],
   "source": [
    "df_14d_plus = df[[col for col in df.columns if '3d' not in col and '7d' not in col and 'CELL_TYPE_' not in col and 'year' not in col]]\r\n",
    "\r\n",
    "df_14d_plus['day'] = df_14d_plus['day'] - 1\r\n",
    "df_14d_plus = cyclical_encoding(df_14d_plus, 'day', 30)\r\n",
    "\r\n",
    "df_14d_plus = df_14d_plus.drop(columns = ['day'])\r\n",
    "df_14d_plus.head()"
   ]
  },
  {
   "cell_type": "code",
   "execution_count": 19,
   "metadata": {
    "executionInfo": {
     "elapsed": 29454,
     "status": "ok",
     "timestamp": 1608227999260,
     "user": {
      "displayName": "Paolo Fornoni",
      "photoUrl": "",
      "userId": "10853131839845702707"
     },
     "user_tz": -60
    },
    "id": "zFfrSvZu2uFb"
   },
   "outputs": [],
   "source": [
    "X = df_14d_plus.drop(columns=['aircon_sum_target_next14d'])\r\n",
    "y = df_14d_plus['aircon_sum_target_next14d']"
   ]
  },
  {
   "cell_type": "code",
   "execution_count": 20,
   "metadata": {
    "executionInfo": {
     "elapsed": 30266,
     "status": "ok",
     "timestamp": 1608228000077,
     "user": {
      "displayName": "Paolo Fornoni",
      "photoUrl": "",
      "userId": "10853131839845702707"
     },
     "user_tz": -60
    },
    "id": "4CTxRWuU21Bi"
   },
   "outputs": [],
   "source": [
    "X_train, X_test, y_train, y_test = train_test_split(X, y, test_size=0.2, random_state=1)"
   ]
  },
  {
   "cell_type": "code",
   "execution_count": 21,
   "metadata": {
    "colab": {
     "base_uri": "https://localhost:8080/"
    },
    "executionInfo": {
     "elapsed": 343533,
     "status": "ok",
     "timestamp": 1608228426117,
     "user": {
      "displayName": "Paolo Fornoni",
      "photoUrl": "",
      "userId": "10853131839845702707"
     },
     "user_tz": -60
    },
    "id": "tLBf1G3y22bV",
    "outputId": "67f8878d-3427-4a37-839a-d101c0eaa682"
   },
   "outputs": [
    {
     "name": "stdout",
     "output_type": "stream",
     "text": [
      "\n",
      "Fold 1\n",
      "\n",
      "Fold 2\n",
      "\n",
      "Fold 3\n",
      "\n",
      "Fold 4\n",
      "\n",
      "Fold 5\n",
      "\n",
      "Fold 6\n",
      "\n",
      "Fold 7\n",
      "\n",
      "Fold 8\n",
      "\n",
      "Fold 9\n",
      "\n",
      "Fold 10\n"
     ]
    }
   ],
   "source": [
    "nfold = 10\r\n",
    "skf = StratifiedKFold(n_splits=nfold, shuffle=True, random_state=2019)\r\n",
    "\r\n",
    "target = 'aircon_sum_target_next14d'\r\n",
    "predictors = X_train.columns\r\n",
    "\r\n",
    "i = 1\r\n",
    "models = []\r\n",
    "\r\n",
    "for train_index, valid_index in skf.split(X_train, y_train):\r\n",
    "  print(\"\\nFold {}\".format(i))\r\n",
    "\r\n",
    "  clf_RandomForest = RandomForestClassifier(n_estimators = 20, random_state=0)\r\n",
    "  model = clf_RandomForest.fit(X_train.iloc[train_index][predictors].values, \r\n",
    "                               y_train.iloc[train_index].values)\r\n",
    "\r\n",
    "  models.append(model)\r\n",
    "  i = i+1"
   ]
  },
  {
   "cell_type": "code",
   "execution_count": 22,
   "metadata": {
    "executionInfo": {
     "elapsed": 349358,
     "status": "ok",
     "timestamp": 1608228432533,
     "user": {
      "displayName": "Paolo Fornoni",
      "photoUrl": "",
      "userId": "10853131839845702707"
     },
     "user_tz": -60
    },
    "id": "ke-gbmFB25Mu"
   },
   "outputs": [],
   "source": [
    "test_predictions = np.zeros(len(X_test))\r\n",
    "pred = []\r\n",
    "for mdl in models:\r\n",
    "    pr = mdl.predict_proba(X_test[predictors])[:,1]\r\n",
    "    test_predictions += pr/nfold\r\n",
    "    pred.append(pr)"
   ]
  },
  {
   "cell_type": "code",
   "execution_count": 23,
   "metadata": {
    "executionInfo": {
     "elapsed": 348834,
     "status": "ok",
     "timestamp": 1608228432537,
     "user": {
      "displayName": "Paolo Fornoni",
      "photoUrl": "",
      "userId": "10853131839845702707"
     },
     "user_tz": -60
    },
    "id": "U5sIuLsQ26Qv"
   },
   "outputs": [],
   "source": [
    "fpr, tpr, thresholds = roc_curve(y_test, test_predictions)"
   ]
  },
  {
   "cell_type": "code",
   "execution_count": 24,
   "metadata": {
    "colab": {
     "base_uri": "https://localhost:8080/",
     "height": 986
    },
    "executionInfo": {
     "elapsed": 348793,
     "status": "ok",
     "timestamp": 1608228433049,
     "user": {
      "displayName": "Paolo Fornoni",
      "photoUrl": "",
      "userId": "10853131839845702707"
     },
     "user_tz": -60
    },
    "id": "YJRrnab-27e6",
    "outputId": "df9ba603-9ff6-49c6-d731-179a17926209"
   },
   "outputs": [
    {
     "name": "stdout",
     "output_type": "stream",
     "text": [
      "f1 score:  0.7123088128186454\n",
      "precision:  0.7180616740088106\n",
      "recall: 0.7066473988439307\n",
      "auc precision-recall:  0.7686181130039896\n"
     ]
    },
    {
     "data": {
      "image/png": "[encoded data removed]",
      "text/plain": [
       "<Figure size 1296x1152 with 5 Axes>"
      ]
     },
     "metadata": {
      "needs_background": "light",
      "tags": []
     },
     "output_type": "display_data"
    }
   ],
   "source": [
    "rectifier = lambda x, thr: 0 if x < thr else 1\r\n",
    "\r\n",
    "f, axs = f, axs = plt.subplots(figsize= (18,16), ncols=2, nrows=2)\r\n",
    "plot_roc_curve(y_test, test_predictions, axs[0][0])\r\n",
    "precision, recall, thresholds = precision_recall_curve(y_test, test_predictions)\r\n",
    "plot_precision_recall_curve(y_test, test_predictions, axs[0][1])\r\n",
    "\r\n",
    "fscore = (2 * precision * recall) / (precision + recall)\r\n",
    "ix = argmax(fscore)\r\n",
    "max_fscore = fscore[ix]\r\n",
    "best_thr = thresholds[ix]\r\n",
    "rectified = np.array([rectifier(x, best_thr) for x in test_predictions])\r\n",
    "\r\n",
    "confusion_matrix = pd.crosstab(y_test.values, rectified, rownames=['Actual'], colnames=['Predicted'])\r\n",
    "heatmap_title = 'confusion matrix for best threshold of : {thr:.3f}'\r\n",
    "sns.heatmap(confusion_matrix, annot=True, fmt='d', square=True, cmap='Blues',\r\n",
    "            ax=axs[1][0], robust=True, linewidth=2).set(title=heatmap_title.format(thr = best_thr));\r\n",
    "\r\n",
    "max_precision = precision[ix]\r\n",
    "max_recall = recall[ix]\r\n",
    "\r\n",
    "x_bar = np.arange(3)\r\n",
    "y_bar = np.array([max_precision, max_recall, max_fscore])\r\n",
    "axs[1,1].set_ylim(0, 1)\r\n",
    "axs[1,1].bar(x_bar, y_bar)\r\n",
    "axs[1,1].set_xticks([0, 1, 2])\r\n",
    "axs[1,1].set_xticklabels(['precision', 'recall', 'f1 score']);\r\n",
    "\r\n",
    "print('f1 score: ', max_fscore)\r\n",
    "print('precision: ', max_precision)\r\n",
    "print('recall:', max_recall)\r\n",
    "print('auc precision-recall: ', auc(recall, precision))"
   ]
  },
  {
   "cell_type": "code",
   "execution_count": 25,
   "metadata": {
    "colab": {
     "base_uri": "https://localhost:8080/",
     "height": 1000
    },
    "executionInfo": {
     "elapsed": 349742,
     "status": "ok",
     "timestamp": 1608228435307,
     "user": {
      "displayName": "Paolo Fornoni",
      "photoUrl": "",
      "userId": "10853131839845702707"
     },
     "user_tz": -60
    },
    "id": "atL4Ys6N29Xm",
    "outputId": "9e429c2e-b8fe-4e60-dcb6-9138e55b5b0c"
   },
   "outputs": [
    {
     "data": {
      "image/png": "[encoded data removed]",
      "text/plain": [
       "<Figure size 1080x1800 with 1 Axes>"
      ]
     },
     "metadata": {
      "needs_background": "light",
      "tags": []
     },
     "output_type": "display_data"
    }
   ],
   "source": [
    "importance = np.zeros(len(X_test))\r\n",
    "for mdl in models:\r\n",
    "  importance =+ mdl.feature_importances_/nfold\r\n",
    "\r\n",
    "plot_feature_importance(importance,X_test.columns, 'Random forest ')"
   ]
  },
  {
   "cell_type": "markdown",
   "metadata": {
    "id": "4A3m5nqG2_jg"
   },
   "source": [
    "#Tuning"
   ]
  },
  {
   "cell_type": "code",
   "execution_count": 26,
   "metadata": {
    "colab": {
     "base_uri": "https://localhost:8080/"
    },
    "executionInfo": {
     "elapsed": 1432,
     "status": "ok",
     "timestamp": 1608228436811,
     "user": {
      "displayName": "Paolo Fornoni",
      "photoUrl": "",
      "userId": "10853131839845702707"
     },
     "user_tz": -60
    },
    "id": "zD3XKuoy3BLa",
    "outputId": "39e47065-6ffc-4e48-c4af-db8084ab9d73"
   },
   "outputs": [
    {
     "name": "stdout",
     "output_type": "stream",
     "text": [
      "{'n_estimators': [50, 60, 70, 80, 90], 'max_features': ['auto'], 'max_depth': [5, 8, 12, 16, 20], 'min_samples_split': [2], 'min_samples_leaf': [1], 'bootstrap': [True]}\n"
     ]
    }
   ],
   "source": [
    "from sklearn.model_selection import RandomizedSearchCV\r\n",
    "# Number of trees in random forest\r\n",
    "n_estimators = [int(x) for x in np.linspace(start = 50, stop = 90, num = 5)]\r\n",
    "# Number of features to consider at every split\r\n",
    "max_features = ['auto']\r\n",
    "# Maximum number of levels in tree\r\n",
    "max_depth = [int(x) for x in np.linspace(5, 20, num = 5)]\r\n",
    "#max_depth.append(None)\r\n",
    "# Minimum number of samples required to split a node\r\n",
    "min_samples_split = [2]\r\n",
    "# Minimum number of samples required at each leaf node\r\n",
    "min_samples_leaf = [1]\r\n",
    "# Method of selecting samples for training each tree\r\n",
    "bootstrap = [True]\r\n",
    "# Create the random grid\r\n",
    "random_grid = {'n_estimators': n_estimators,\r\n",
    "               'max_features': max_features,\r\n",
    "               'max_depth': max_depth,\r\n",
    "               'min_samples_split': min_samples_split,\r\n",
    "               'min_samples_leaf': min_samples_leaf,\r\n",
    "               'bootstrap': bootstrap }\r\n",
    "print(random_grid)"
   ]
  },
  {
   "cell_type": "code",
   "execution_count": 27,
   "metadata": {
    "colab": {
     "base_uri": "https://localhost:8080/"
    },
    "executionInfo": {
     "elapsed": 2159461,
     "status": "ok",
     "timestamp": 1608231590364,
     "user": {
      "displayName": "Paolo Fornoni",
      "photoUrl": "",
      "userId": "10853131839845702707"
     },
     "user_tz": -60
    },
    "id": "Sum1t3XE3C92",
    "outputId": "bf05f05f-61d3-4ade-dcdc-d225efc7f6af"
   },
   "outputs": [
    {
     "name": "stdout",
     "output_type": "stream",
     "text": [
      "Fitting 3 folds for each of 25 candidates, totalling 75 fits\n"
     ]
    },
    {
     "name": "stderr",
     "output_type": "stream",
     "text": [
      "/usr/local/lib/python3.6/dist-packages/sklearn/model_selection/_search.py:281: UserWarning: The total space of parameters 25 is smaller than n_iter=100. Running 25 iterations. For exhaustive searches, use GridSearchCV.\n",
      "  % (grid_size, self.n_iter, grid_size), UserWarning)\n",
      "[Parallel(n_jobs=4)]: Using backend LokyBackend with 4 concurrent workers.\n",
      "[Parallel(n_jobs=4)]: Done  33 tasks      | elapsed: 15.3min\n",
      "[Parallel(n_jobs=4)]: Done  75 out of  75 | elapsed: 51.0min finished\n"
     ]
    },
    {
     "data": {
      "text/plain": [
       "RandomizedSearchCV(cv=3, error_score='raise',\n",
       "                   estimator=RandomForestClassifier(bootstrap=True,\n",
       "                                                    ccp_alpha=0.0,\n",
       "                                                    class_weight=None,\n",
       "                                                    criterion='gini',\n",
       "                                                    max_depth=None,\n",
       "                                                    max_features='auto',\n",
       "                                                    max_leaf_nodes=None,\n",
       "                                                    max_samples=None,\n",
       "                                                    min_impurity_decrease=0.0,\n",
       "                                                    min_impurity_split=None,\n",
       "                                                    min_samples_leaf=1,\n",
       "                                                    min_samples_split=2,\n",
       "                                                    min_weight_fraction_leaf=0.0,\n",
       "                                                    n_estimators=100,\n",
       "                                                    n_...\n",
       "                                                    random_state=None,\n",
       "                                                    verbose=0,\n",
       "                                                    warm_start=False),\n",
       "                   iid='deprecated', n_iter=100, n_jobs=4,\n",
       "                   param_distributions={'bootstrap': [True],\n",
       "                                        'max_depth': [5, 8, 12, 16, 20],\n",
       "                                        'max_features': ['auto'],\n",
       "                                        'min_samples_leaf': [1],\n",
       "                                        'min_samples_split': [2],\n",
       "                                        'n_estimators': [50, 60, 70, 80, 90]},\n",
       "                   pre_dispatch='2*n_jobs', random_state=0, refit=True,\n",
       "                   return_train_score=False, scoring=None, verbose=2)"
      ]
     },
     "execution_count": 27,
     "metadata": {
      "tags": []
     },
     "output_type": "execute_result"
    }
   ],
   "source": [
    "rf = RandomForestClassifier()\r\n",
    "\r\n",
    "rf_random = RandomizedSearchCV(estimator = rf, param_distributions = random_grid, n_iter = 100, cv = 3, verbose=2, random_state=0, n_jobs = 4,error_score='raise')\r\n",
    "\r\n",
    "# Fit the random search model\r\n",
    "rf_random.fit(X_train, y_train)"
   ]
  },
  {
   "cell_type": "code",
   "execution_count": 28,
   "metadata": {
    "colab": {
     "base_uri": "https://localhost:8080/"
    },
    "executionInfo": {
     "elapsed": 76,
     "status": "ok",
     "timestamp": 1608231590368,
     "user": {
      "displayName": "Paolo Fornoni",
      "photoUrl": "",
      "userId": "10853131839845702707"
     },
     "user_tz": -60
    },
    "id": "2pbiI6Om3FwP",
    "outputId": "48610788-a88c-4a92-a339-630eca2ab75c"
   },
   "outputs": [
    {
     "data": {
      "text/plain": [
       "{'bootstrap': True,\n",
       " 'max_depth': 20,\n",
       " 'max_features': 'auto',\n",
       " 'min_samples_leaf': 1,\n",
       " 'min_samples_split': 2,\n",
       " 'n_estimators': 50}"
      ]
     },
     "execution_count": 28,
     "metadata": {
      "tags": []
     },
     "output_type": "execute_result"
    }
   ],
   "source": [
    "rf_random.best_params_"
   ]
  },
  {
   "cell_type": "code",
   "execution_count": 29,
   "metadata": {
    "colab": {
     "base_uri": "https://localhost:8080/"
    },
    "executionInfo": {
     "elapsed": 95072,
     "status": "ok",
     "timestamp": 1608231685404,
     "user": {
      "displayName": "Paolo Fornoni",
      "photoUrl": "",
      "userId": "10853131839845702707"
     },
     "user_tz": -60
    },
    "id": "sE5EN_SM3HB5",
    "outputId": "a65b9755-61e7-48dd-b0fe-bdd5af8ab949"
   },
   "outputs": [
    {
     "data": {
      "text/plain": [
       "RandomForestClassifier(bootstrap=True, ccp_alpha=0.0, class_weight=None,\n",
       "                       criterion='gini', max_depth=20, max_features='auto',\n",
       "                       max_leaf_nodes=None, max_samples=None,\n",
       "                       min_impurity_decrease=0.0, min_impurity_split=None,\n",
       "                       min_samples_leaf=1, min_samples_split=2,\n",
       "                       min_weight_fraction_leaf=0.0, n_estimators=50,\n",
       "                       n_jobs=None, oob_score=False, random_state=None,\n",
       "                       verbose=0, warm_start=False)"
      ]
     },
     "execution_count": 29,
     "metadata": {
      "tags": []
     },
     "output_type": "execute_result"
    }
   ],
   "source": [
    "rf_random.best_estimator_.fit(X_train, y_train)"
   ]
  },
  {
   "cell_type": "code",
   "execution_count": 30,
   "metadata": {
    "executionInfo": {
     "elapsed": 398,
     "status": "ok",
     "timestamp": 1608231685765,
     "user": {
      "displayName": "Paolo Fornoni",
      "photoUrl": "",
      "userId": "10853131839845702707"
     },
     "user_tz": -60
    },
    "id": "Y-zjhpZ13IHy"
   },
   "outputs": [],
   "source": [
    "y_pred = rf_random.best_estimator_.predict_proba(X_test)"
   ]
  },
  {
   "cell_type": "code",
   "execution_count": null,
   "metadata": {
    "id": "XaXBLpN93J-4"
   },
   "outputs": [],
   "source": [
    "print('Accuracy: ',metrics.accuracy_score(y_test, y_pred))\r\n",
    "print('Precision: ',metrics.precision_score(y_test, y_pred))\r\n",
    "print('Recall: ',metrics.recall_score(y_test, y_pred))\r\n",
    "print('F1: ',metrics.f1_score(y_test, y_pred))"
   ]
  }
 ],
 "metadata": {
  "colab": {
   "authorship_tag": "ABX9TyOvbbPEoJdSblTNmJWDRUzT",
   "collapsed_sections": [],
   "mount_file_id": "1EJWpyyc7gdeHhHHmiLy7S-Njsk9V79G4",
   "name": "Random forest.ipynb",
   "provenance": [],
   "toc_visible": true
  },
  "kernelspec": {
   "display_name": "Python 3",
   "language": "python",
   "name": "python3"
  },
  "language_info": {
   "codemirror_mode": {
    "name": "ipython",
    "version": 3
   },
   "file_extension": ".py",
   "mimetype": "text/x-python",
   "name": "python",
   "nbconvert_exporter": "python",
   "pygments_lexer": "ipython3",
   "version": "3.8.5"
  }
 },
 "nbformat": 4,
 "nbformat_minor": 4
}
