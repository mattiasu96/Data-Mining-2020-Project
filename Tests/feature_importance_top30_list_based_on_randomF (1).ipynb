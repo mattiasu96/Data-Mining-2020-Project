{
  "nbformat": 4,
  "nbformat_minor": 0,
  "metadata": {
    "colab": {
      "name": "feature importance top30 list based on randomF",
      "provenance": [],
      "collapsed_sections": []
    },
    "kernelspec": {
      "name": "python3",
      "display_name": "Python 3"
    }
  },
  "cells": [
    {
      "cell_type": "code",
      "metadata": {
        "colab": {
          "base_uri": "https://localhost:8080/"
        },
        "id": "CyJSvIe8k8Dp",
        "outputId": "e5d0464a-ab4f-4c3d-f5e0-d5edcfa6088c"
      },
      "source": [
        "# combination of random oversampling and undersampling for imbalanced classification\r\n",
        "from numpy import mean\r\n",
        "from sklearn.datasets import make_classification\r\n",
        "from sklearn.model_selection import cross_val_score\r\n",
        "from sklearn.model_selection import RepeatedStratifiedKFold\r\n",
        "from sklearn.tree import DecisionTreeClassifier\r\n",
        "from imblearn.pipeline import Pipeline\r\n",
        "from imblearn.over_sampling import RandomOverSampler\r\n",
        "from imblearn.under_sampling import RandomUnderSampler\r\n",
        "import pandas as pd\r\n",
        "import sklearn\r\n",
        "import datetime as dt\r\n",
        "from sklearn.ensemble import RandomForestClassifier\r\n",
        "from sklearn.feature_selection import SelectFromModel\r\n",
        "from sklearn.model_selection import train_test_split"
      ],
      "execution_count": 20,
      "outputs": [
        {
          "output_type": "stream",
          "text": [
            "/usr/local/lib/python3.6/dist-packages/sklearn/externals/six.py:31: FutureWarning: The module is deprecated in version 0.21 and will be removed in version 0.23 since we've dropped support for Python 2.7. Please rely on the official version of six (https://pypi.org/project/six/).\n",
            "  \"(https://pypi.org/project/six/).\", FutureWarning)\n",
            "/usr/local/lib/python3.6/dist-packages/sklearn/utils/deprecation.py:144: FutureWarning: The sklearn.neighbors.base module is  deprecated in version 0.22 and will be removed in version 0.24. The corresponding classes / functions should instead be imported from sklearn.neighbors. Anything that cannot be imported from sklearn.neighbors is now part of the private API.\n",
            "  warnings.warn(message, FutureWarning)\n"
          ],
          "name": "stderr"
        }
      ]
    },
    {
      "cell_type": "code",
      "metadata": {
        "colab": {
          "base_uri": "https://localhost:8080/"
        },
        "id": "qusJ15ykk-Dn",
        "outputId": "ec8df0aa-1a41-4984-f270-d10ea845ca9a"
      },
      "source": [
        "from google.colab import drive\r\n",
        "drive.mount('/content/gdrive')"
      ],
      "execution_count": 1,
      "outputs": [
        {
          "output_type": "stream",
          "text": [
            "Mounted at /content/gdrive\n"
          ],
          "name": "stdout"
        }
      ]
    },
    {
      "cell_type": "code",
      "metadata": {
        "id": "5v82BRqnk-wU"
      },
      "source": [
        "import pandas as pd\r\n",
        "df=pd.read_csv('/content/gdrive/MyDrive/train.csv')"
      ],
      "execution_count": 2,
      "outputs": []
    },
    {
      "cell_type": "code",
      "metadata": {
        "id": "VnpMBDAjlY4z"
      },
      "source": [
        "df.columns[8:18]\r\n",
        "df.drop(columns=['GEOGRAPHIC_CLUSTER_K_0', 'GEOGRAPHIC_CLUSTER_K_1',\r\n",
        "       'GEOGRAPHIC_CLUSTER_K_2', 'GEOGRAPHIC_CLUSTER_K_3',\r\n",
        "       'GEOGRAPHIC_CLUSTER_K_4', 'GEOGRAPHIC_CLUSTER_K_5',\r\n",
        "       'GEOGRAPHIC_CLUSTER_K_6', 'GEOGRAPHIC_CLUSTER_K_7',\r\n",
        "       'GEOGRAPHIC_CLUSTER_K_8', 'GEOGRAPHIC_CLUSTER_K_9'], inplace=True)\r\n",
        "df.drop(columns='CELL_TYPE_TRP', inplace=True)\r\n",
        "df.drop(columns='SITE_ID', inplace=True)\r\n",
        "target=df['aircon_sum_target_next14d']\r\n",
        "df.drop(columns='aircon_sum_target_next14d', inplace=True)"
      ],
      "execution_count": null,
      "outputs": []
    },
    {
      "cell_type": "code",
      "metadata": {
        "colab": {
          "base_uri": "https://localhost:8080/"
        },
        "id": "ZSNP8kLSlb93",
        "outputId": "1779b018-825b-47c5-bb4c-71dcbe0a1f87"
      },
      "source": [
        "df.columns"
      ],
      "execution_count": 18,
      "outputs": [
        {
          "output_type": "execute_result",
          "data": {
            "text/plain": [
              "Index(['DATE', 'CELL_TYPE_Macro', 'CELL_TYPE_Mobil', 'CELL_TYPE_Tx site',\n",
              "       'CELL_TYPE_micro', 'N_TRANSPORTED_SITES', 'aircon_sum_wo_prev7d',\n",
              "       'aircon_sum_wo_prev14d', 'mean_temperature_prev7d',\n",
              "       'max_temperature_prev7d',\n",
              "       ...\n",
              "       'skew_equipment_alarms_prev14d', 'skew_fire/smoke_alarms_prev14d',\n",
              "       'skew_ge_alarms_prev14d', 'skew_power_alarms_prev14d',\n",
              "       'skew_temperature_alarms_prev14d', 'kurt_equipment_alarms_prev14d',\n",
              "       'kurt_fire/smoke_alarms_prev14d', 'kurt_ge_alarms_prev14d',\n",
              "       'kurt_power_alarms_prev14d', 'kurt_temperature_alarms_prev14d'],\n",
              "      dtype='object', length=123)"
            ]
          },
          "metadata": {
            "tags": []
          },
          "execution_count": 18
        }
      ]
    },
    {
      "cell_type": "code",
      "metadata": {
        "colab": {
          "base_uri": "https://localhost:8080/"
        },
        "id": "YvQsiZ-imtv_",
        "outputId": "e25896d1-1127-4594-afcc-2cce11c85ef7"
      },
      "source": [
        "import datetime as dt\r\n",
        "\r\n",
        "X_train=df\r\n",
        "X_train['DATE'] = pd.to_datetime(X_train['DATE'])\r\n",
        "X_train['DATE']=X_train['DATE'].map(dt.datetime.toordinal)\r\n",
        "\r\n",
        "y_train=target\r\n",
        "sel = SelectFromModel(RandomForestClassifier(n_estimators = 100))\r\n",
        "sel.fit(X_train, y_train)\r\n",
        "\r\n",
        "sel.get_support()\r\n",
        "\r\n",
        "selected_feat= X_train.columns[(sel.get_support())]\r\n",
        "\r\n",
        "print(len(selected_feat),selected_feat)"
      ],
      "execution_count": 31,
      "outputs": [
        {
          "output_type": "stream",
          "text": [
            "48 Index(['N_TRANSPORTED_SITES', 'aircon_sum_wo_prev7d', 'aircon_sum_wo_prev14d',\n",
            "       'mean_temperature_prev7d', 'mean_temperature_prev3d',\n",
            "       'mean_rain_mm_prev7d', 'max_rain_mm_prev7d', 'mean_humidity_prev7d',\n",
            "       'max_humidity_prev7d', 'min_humidity_prev7d', 'mean_humidity_prev3d',\n",
            "       'min_humidity_prev3d', 'mean_wind_speed_prev7d',\n",
            "       'max_wind_speed_prev7d', 'mean_pressure_prev7d',\n",
            "       'mean_temperature_f_next14d', 'max_temperature_f_next14d',\n",
            "       'min_temperature_f_next14d', 'mean_temperature_f_next7d',\n",
            "       'mean_rain_mm_f_next14d', 'max_rain_mm_f_next14d',\n",
            "       'mean_rain_mm_f_next7d', 'max_rain_mm_f_next7d',\n",
            "       'mean_humidity_f_next14d', 'max_humidity_f_next14d',\n",
            "       'min_humidity_f_next14d', 'mean_humidity_f_next7d',\n",
            "       'max_humidity_f_next7d', 'min_humidity_f_next7d',\n",
            "       'mean_wind_speed_f_next14d', 'max_wind_speed_f_next14d',\n",
            "       'mean_wind_speed_f_next7d', 'max_wind_speed_f_next7d',\n",
            "       'mean_pressure_f_next14d', 'mean_pressure_f_next7d',\n",
            "       'equipment_sum_alarms_prev14d', 'temperature_sum_alarms_prev14d',\n",
            "       'ge_max_persistance_prev7d', 'ge_mean_persistance_prev7d',\n",
            "       'temperature_max_persistance_prev7d',\n",
            "       'temperature_mean_persistance_prev7d', 'skew_equipment_alarms_prev14d',\n",
            "       'skew_temperature_alarms_prev14d', 'kurt_equipment_alarms_prev14d',\n",
            "       'kurt_fire/smoke_alarms_prev14d', 'kurt_ge_alarms_prev14d',\n",
            "       'kurt_power_alarms_prev14d', 'kurt_temperature_alarms_prev14d'],\n",
            "      dtype='object')\n"
          ],
          "name": "stdout"
        }
      ]
    },
    {
      "cell_type": "code",
      "metadata": {
        "colab": {
          "base_uri": "https://localhost:8080/",
          "height": 282
        },
        "id": "ihMoz6BjmyD0",
        "outputId": "92c83257-914e-4983-a8ff-ea178af4ca9d"
      },
      "source": [
        "pd.Series(sel.estimator_.feature_importances_.ravel()).hist()"
      ],
      "execution_count": 32,
      "outputs": [
        {
          "output_type": "execute_result",
          "data": {
            "text/plain": [
              "<matplotlib.axes._subplots.AxesSubplot at 0x7f1403390ac8>"
            ]
          },
          "metadata": {
            "tags": []
          },
          "execution_count": 32
        },
        {
          "output_type": "display_data",
          "data": {
            "image/png": "[encoded data removed]",
            "text/plain": [
              "<Figure size 432x288 with 1 Axes>"
            ]
          },
          "metadata": {
            "tags": [],
            "needs_background": "light"
          }
        }
      ]
    },
    {
      "cell_type": "code",
      "metadata": {
        "colab": {
          "base_uri": "https://localhost:8080/"
        },
        "id": "pg7VPVWttyV8",
        "outputId": "41b63736-ba49-433f-9f2d-aa7f96f4a668"
      },
      "source": [
        "X=X_train[selected_feat]\r\n",
        "\r\n",
        "X.shape[1]"
      ],
      "execution_count": 33,
      "outputs": [
        {
          "output_type": "execute_result",
          "data": {
            "text/plain": [
              "48"
            ]
          },
          "metadata": {
            "tags": []
          },
          "execution_count": 33
        }
      ]
    },
    {
      "cell_type": "code",
      "metadata": {
        "id": "KO6cb9u3t1F_"
      },
      "source": [
        "import numpy as np\r\n",
        "import matplotlib.pyplot as plt\r\n",
        "\r\n",
        "importances = sel.estimator_.feature_importances_\r\n",
        "indices = np.argsort(importances)[::-1]"
      ],
      "execution_count": 34,
      "outputs": []
    },
    {
      "cell_type": "code",
      "metadata": {
        "colab": {
          "base_uri": "https://localhost:8080/",
          "height": 1000
        },
        "id": "uT6SBe_Xt4Ov",
        "outputId": "a43b4c3f-056c-4f78-d41f-5e86e9147448"
      },
      "source": [
        "X=X_train\r\n",
        "plt.figure(figsize=(20,20))\r\n",
        "\r\n",
        "plt.title(\"Feature importances\")\r\n",
        "plt.bar(range(X.shape[1]), importances[indices],\r\n",
        "       color=\"r\", align=\"center\")\r\n",
        "plt.xticks(range(X.shape[1]), indices)\r\n",
        "plt.xlim([-1, 30])\r\n",
        "plt.ylim(0.010)\r\n",
        "plt.show()"
      ],
      "execution_count": 39,
      "outputs": [
        {
          "output_type": "display_data",
          "data": {
            "image/png": "[encoded data removed]",
            "text/plain": [
              "<Figure size 1440x1440 with 1 Axes>"
            ]
          },
          "metadata": {
            "tags": [],
            "needs_background": "light"
          }
        }
      ]
    },
    {
      "cell_type": "code",
      "metadata": {
        "colab": {
          "base_uri": "https://localhost:8080/"
        },
        "id": "eoqDkbfTt60H",
        "outputId": "1756f587-89d8-4626-a845-cd87790541b1"
      },
      "source": [
        "indices30=indices[0:30]\r\n",
        "indices30"
      ],
      "execution_count": 42,
      "outputs": [
        {
          "output_type": "execute_result",
          "data": {
            "text/plain": [
              "array([  5, 118, 121,   7, 120, 122, 119, 113,   6,  44,  50,  68,  38,\n",
              "        72, 117,  56,  45,  22,  20,  51,  52,  41,  53,  15,  55,  96,\n",
              "        62,  47,  26,  59])"
            ]
          },
          "metadata": {
            "tags": []
          },
          "execution_count": 42
        }
      ]
    },
    {
      "cell_type": "code",
      "metadata": {
        "colab": {
          "base_uri": "https://localhost:8080/"
        },
        "id": "AhtHAC5IwgYP",
        "outputId": "c46ecd34-5e95-4960-d021-0f92d16ec3f2"
      },
      "source": [
        "import numpy as np\r\n",
        "a=np.sort(indices30)\r\n",
        "a\r\n",
        "not_sorted_X_train=X_train.iloc[:,a]\r\n",
        "sorted_X_train=X_train.iloc[:,indices30]\r\n",
        "sorted_X_train\r\n",
        "sorted_X_train.columns"
      ],
      "execution_count": 52,
      "outputs": [
        {
          "output_type": "execute_result",
          "data": {
            "text/plain": [
              "Index(['N_TRANSPORTED_SITES', 'kurt_equipment_alarms_prev14d',\n",
              "       'kurt_power_alarms_prev14d', 'aircon_sum_wo_prev14d',\n",
              "       'kurt_ge_alarms_prev14d', 'kurt_temperature_alarms_prev14d',\n",
              "       'kurt_fire/smoke_alarms_prev14d', 'skew_equipment_alarms_prev14d',\n",
              "       'aircon_sum_wo_prev7d', 'mean_rain_mm_f_next14d',\n",
              "       'mean_humidity_f_next14d', 'equipment_sum_alarms_prev14d',\n",
              "       'mean_temperature_f_next14d', 'temperature_sum_alarms_prev14d',\n",
              "       'skew_temperature_alarms_prev14d', 'mean_wind_speed_f_next14d',\n",
              "       'max_rain_mm_f_next14d', 'min_humidity_prev7d', 'mean_humidity_prev7d',\n",
              "       'max_humidity_f_next14d', 'min_humidity_f_next14d',\n",
              "       'mean_temperature_f_next7d', 'mean_humidity_f_next7d',\n",
              "       'max_rain_mm_prev7d', 'min_humidity_f_next7d',\n",
              "       'temperature_mean_persistance_prev7d', 'mean_pressure_f_next14d',\n",
              "       'mean_rain_mm_f_next7d', 'mean_wind_speed_prev7d',\n",
              "       'mean_wind_speed_f_next7d'],\n",
              "      dtype='object')"
            ]
          },
          "metadata": {
            "tags": []
          },
          "execution_count": 52
        }
      ]
    },
    {
      "cell_type": "markdown",
      "metadata": {
        "id": "PFQGZh4UyvYZ"
      },
      "source": [
        "Top30 features that will be used further\r\n",
        "\r\n",
        "['N_TRANSPORTED_SITES', 'kurt_equipment_alarms_prev14d',\r\n",
        "       'kurt_power_alarms_prev14d', 'aircon_sum_wo_prev14d',\r\n",
        "       'kurt_ge_alarms_prev14d', 'kurt_temperature_alarms_prev14d',\r\n",
        "       'kurt_fire/smoke_alarms_prev14d', 'skew_equipment_alarms_prev14d',\r\n",
        "       'aircon_sum_wo_prev7d', 'mean_rain_mm_f_next14d',\r\n",
        "       'mean_humidity_f_next14d', 'equipment_sum_alarms_prev14d',\r\n",
        "       'mean_temperature_f_next14d', 'temperature_sum_alarms_prev14d',\r\n",
        "       'skew_temperature_alarms_prev14d', 'mean_wind_speed_f_next14d',\r\n",
        "       'max_rain_mm_f_next14d', 'min_humidity_prev7d', 'mean_humidity_prev7d',\r\n",
        "       'max_humidity_f_next14d', 'min_humidity_f_next14d',\r\n",
        "       'mean_temperature_f_next7d', 'mean_humidity_f_next7d',\r\n",
        "       'max_rain_mm_prev7d', 'min_humidity_f_next7d',\r\n",
        "       'temperature_mean_persistance_prev7d', 'mean_pressure_f_next14d',\r\n",
        "       'mean_rain_mm_f_next7d', 'mean_wind_speed_prev7d',\r\n",
        "       'mean_wind_speed_f_next7d']"
      ]
    },
    {
      "cell_type": "code",
      "metadata": {
        "id": "iRL-5fFow1s2"
      },
      "source": [
        ""
      ],
      "execution_count": null,
      "outputs": []
    }
  ]
}