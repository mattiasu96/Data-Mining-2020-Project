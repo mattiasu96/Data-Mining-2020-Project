{
  "nbformat": 4,
  "nbformat_minor": 0,
  "metadata": {
    "kernelspec": {
      "display_name": "Python 3",
      "language": "python",
      "name": "python3"
    },
    "language_info": {
      "codemirror_mode": {
        "name": "ipython",
        "version": 3
      },
      "file_extension": ".py",
      "mimetype": "text/x-python",
      "name": "python",
      "nbconvert_exporter": "python",
      "pygments_lexer": "ipython3",
      "version": "3.7.4"
    },
    "colab": {
      "name": "sampling techniques based on creditFraud tutorial",
      "provenance": []
    },
    "accelerator": "TPU"
  },
  "cells": [
    {
      "cell_type": "markdown",
      "metadata": {
        "id": "T0ylHTfbCZMt"
      },
      "source": [
        "# Import the libraries"
      ]
    },
    {
      "cell_type": "code",
      "metadata": {
        "colab": {
          "base_uri": "https://localhost:8080/"
        },
        "id": "QL9AjQO1CZMv",
        "outputId": "12576029-409f-484d-b267-62775a85fc59"
      },
      "source": [
        "import pandas as pd\n",
        "import numpy as np\n",
        "import matplotlib.pyplot as plt\n",
        "# combination of random oversampling and undersampling for imbalanced classification\n",
        "from numpy import mean\n",
        "from sklearn.datasets import make_classification\n",
        "from sklearn.model_selection import cross_val_score\n",
        "from sklearn.model_selection import RepeatedStratifiedKFold\n",
        "from sklearn.tree import DecisionTreeClassifier\n",
        "from imblearn.pipeline import Pipeline\n",
        "from imblearn.over_sampling import RandomOverSampler\n",
        "from imblearn.under_sampling import RandomUnderSampler\n",
        "import pandas as pd\n",
        "import sklearn\n",
        "import datetime as dt\n",
        "from sklearn.ensemble import RandomForestClassifier\n",
        "from sklearn.feature_selection import SelectFromModel\n",
        "from sklearn.model_selection import train_test_split"
      ],
      "execution_count": 1,
      "outputs": [
        {
          "output_type": "stream",
          "text": [
            "/usr/local/lib/python3.6/dist-packages/sklearn/externals/six.py:31: FutureWarning: The module is deprecated in version 0.21 and will be removed in version 0.23 since we've dropped support for Python 2.7. Please rely on the official version of six (https://pypi.org/project/six/).\n",
            "  \"(https://pypi.org/project/six/).\", FutureWarning)\n",
            "/usr/local/lib/python3.6/dist-packages/sklearn/utils/deprecation.py:144: FutureWarning: The sklearn.neighbors.base module is  deprecated in version 0.22 and will be removed in version 0.24. The corresponding classes / functions should instead be imported from sklearn.neighbors. Anything that cannot be imported from sklearn.neighbors is now part of the private API.\n",
            "  warnings.warn(message, FutureWarning)\n"
          ],
          "name": "stderr"
        }
      ]
    },
    {
      "cell_type": "markdown",
      "metadata": {
        "id": "BTKylSGFCZMv"
      },
      "source": [
        "# Import the dataset"
      ]
    },
    {
      "cell_type": "code",
      "metadata": {
        "colab": {
          "base_uri": "https://localhost:8080/"
        },
        "id": "1jfn356RCZMw",
        "outputId": "56e63b9e-8d11-4491-a732-6b481200d130"
      },
      "source": [
        "from google.colab import drive\r\n",
        "drive.mount('/content/gdrive')"
      ],
      "execution_count": 2,
      "outputs": [
        {
          "output_type": "stream",
          "text": [
            "Drive already mounted at /content/gdrive; to attempt to forcibly remount, call drive.mount(\"/content/gdrive\", force_remount=True).\n"
          ],
          "name": "stdout"
        }
      ]
    },
    {
      "cell_type": "code",
      "metadata": {
        "id": "Lf4vDpObChDZ"
      },
      "source": [
        "import pandas as pd\r\n",
        "df=pd.read_csv('/content/gdrive/MyDrive/train.csv')"
      ],
      "execution_count": 3,
      "outputs": []
    },
    {
      "cell_type": "code",
      "metadata": {
        "id": "gRgGR_G6Cu23"
      },
      "source": [
        "df_test=pd.read_csv('/content/gdrive/MyDrive/test.csv')"
      ],
      "execution_count": 5,
      "outputs": []
    },
    {
      "cell_type": "code",
      "metadata": {
        "colab": {
          "base_uri": "https://localhost:8080/"
        },
        "id": "iw8gqLmrDMa4",
        "outputId": "499878be-e51b-4344-852b-8e2adcbba85e"
      },
      "source": [
        "print(df.info())"
      ],
      "execution_count": 6,
      "outputs": [
        {
          "output_type": "stream",
          "text": [
            "<class 'pandas.core.frame.DataFrame'>\n",
            "RangeIndex: 621300 entries, 0 to 621299\n",
            "Columns: 136 entries, SITE_ID to kurt_temperature_alarms_prev14d\n",
            "dtypes: float64(118), int64(17), object(1)\n",
            "memory usage: 644.7+ MB\n",
            "None\n"
          ],
          "name": "stdout"
        }
      ]
    },
    {
      "cell_type": "code",
      "metadata": {
        "id": "NCRpCuF6DWpf"
      },
      "source": [
        "target=df['aircon_sum_target_next14d']"
      ],
      "execution_count": 4,
      "outputs": []
    },
    {
      "cell_type": "markdown",
      "metadata": {
        "id": "jUk1kuXyCZMw"
      },
      "source": [
        "# Count classes\r\n"
      ]
    },
    {
      "cell_type": "code",
      "metadata": {
        "colab": {
          "base_uri": "https://localhost:8080/"
        },
        "id": "O70rTbkPCZMy",
        "outputId": "b04bb088-7df5-488e-c723-abecf99a5528"
      },
      "source": [
        "# Count number of Fraud cases as a ratio of total transactions in the data\n",
        "count = df['aircon_sum_target_next14d'].value_counts()\n",
        "print(count)\n",
        "print(count / len(df.index))"
      ],
      "execution_count": 5,
      "outputs": [
        {
          "output_type": "stream",
          "text": [
            "0    617717\n",
            "1      3583\n",
            "Name: aircon_sum_target_next14d, dtype: int64\n",
            "0    0.994233\n",
            "1    0.005767\n",
            "Name: aircon_sum_target_next14d, dtype: float64\n"
          ],
          "name": "stdout"
        }
      ]
    },
    {
      "cell_type": "markdown",
      "metadata": {
        "id": "g_dQK_UvCZMz"
      },
      "source": [
        "# Modity dataset to get rid of some columns\r\n",
        "\r\n",
        "\r\n"
      ]
    },
    {
      "cell_type": "code",
      "metadata": {
        "colab": {
          "base_uri": "https://localhost:8080/"
        },
        "id": "AOOAzipgD2Pw",
        "outputId": "996e64f4-ded9-4af1-eeb6-5aa3d471bcbd"
      },
      "source": [
        "data1 = df.copy()\r\n",
        "\r\n",
        "y=target\r\n",
        "\r\n",
        "data1['DATE'] = pd.to_datetime(data1['DATE'])\r\n",
        "\r\n",
        "data1.drop(labels='aircon_sum_target_next14d', axis=1, inplace=True)\r\n",
        "data1.drop(columns=['GEOGRAPHIC_CLUSTER_K_0', 'GEOGRAPHIC_CLUSTER_K_1',\r\n",
        "       'GEOGRAPHIC_CLUSTER_K_2', 'GEOGRAPHIC_CLUSTER_K_3',\r\n",
        "       'GEOGRAPHIC_CLUSTER_K_4', 'GEOGRAPHIC_CLUSTER_K_5',\r\n",
        "       'GEOGRAPHIC_CLUSTER_K_6', 'GEOGRAPHIC_CLUSTER_K_7',\r\n",
        "       'GEOGRAPHIC_CLUSTER_K_8', 'GEOGRAPHIC_CLUSTER_K_9'], inplace=True)\r\n",
        "data1.drop(columns='CELL_TYPE_TRP', inplace=True)\r\n",
        "\r\n",
        "#data1\r\n",
        "\r\n",
        "data2=data1.copy()\r\n",
        "X=data1\r\n",
        "\r\n",
        "data2['DATE']=data2['DATE'].map(dt.datetime.toordinal)\r\n",
        "\r\n",
        "data1.info()"
      ],
      "execution_count": 6,
      "outputs": [
        {
          "output_type": "stream",
          "text": [
            "<class 'pandas.core.frame.DataFrame'>\n",
            "RangeIndex: 621300 entries, 0 to 621299\n",
            "Columns: 124 entries, SITE_ID to kurt_temperature_alarms_prev14d\n",
            "dtypes: datetime64[ns](1), float64(118), int64(5)\n",
            "memory usage: 587.8 MB\n"
          ],
          "name": "stdout"
        }
      ]
    },
    {
      "cell_type": "code",
      "metadata": {
        "colab": {
          "base_uri": "https://localhost:8080/"
        },
        "id": "Uq04NdelCZMz",
        "outputId": "331d3ea4-7417-45a6-faea-98ea844a1979"
      },
      "source": [
        "data3=data1[['N_TRANSPORTED_SITES', 'kurt_equipment_alarms_prev14d', 'kurt_power_alarms_prev14d', 'aircon_sum_wo_prev14d', 'kurt_ge_alarms_prev14d', 'kurt_temperature_alarms_prev14d', 'kurt_fire/smoke_alarms_prev14d', 'skew_equipment_alarms_prev14d', 'aircon_sum_wo_prev7d', 'mean_rain_mm_f_next14d', 'mean_humidity_f_next14d', 'equipment_sum_alarms_prev14d', 'mean_temperature_f_next14d', 'temperature_sum_alarms_prev14d', 'skew_temperature_alarms_prev14d', 'mean_wind_speed_f_next14d', 'max_rain_mm_f_next14d', 'min_humidity_prev7d', 'mean_humidity_prev7d', 'max_humidity_f_next14d', 'min_humidity_f_next14d', 'mean_temperature_f_next7d', 'mean_humidity_f_next7d', 'max_rain_mm_prev7d', 'min_humidity_f_next7d', 'temperature_mean_persistance_prev7d', 'mean_pressure_f_next14d', 'mean_rain_mm_f_next7d', 'mean_wind_speed_prev7d', 'mean_wind_speed_f_next7d']]\n",
        "data3.info()"
      ],
      "execution_count": 7,
      "outputs": [
        {
          "output_type": "stream",
          "text": [
            "<class 'pandas.core.frame.DataFrame'>\n",
            "RangeIndex: 621300 entries, 0 to 621299\n",
            "Data columns (total 30 columns):\n",
            " #   Column                               Non-Null Count   Dtype  \n",
            "---  ------                               --------------   -----  \n",
            " 0   N_TRANSPORTED_SITES                  621300 non-null  float64\n",
            " 1   kurt_equipment_alarms_prev14d        621300 non-null  float64\n",
            " 2   kurt_power_alarms_prev14d            621300 non-null  float64\n",
            " 3   aircon_sum_wo_prev14d                621300 non-null  float64\n",
            " 4   kurt_ge_alarms_prev14d               621300 non-null  float64\n",
            " 5   kurt_temperature_alarms_prev14d      621300 non-null  float64\n",
            " 6   kurt_fire/smoke_alarms_prev14d       621300 non-null  float64\n",
            " 7   skew_equipment_alarms_prev14d        621300 non-null  float64\n",
            " 8   aircon_sum_wo_prev7d                 621300 non-null  float64\n",
            " 9   mean_rain_mm_f_next14d               621300 non-null  float64\n",
            " 10  mean_humidity_f_next14d              621300 non-null  float64\n",
            " 11  equipment_sum_alarms_prev14d         621300 non-null  float64\n",
            " 12  mean_temperature_f_next14d           621300 non-null  float64\n",
            " 13  temperature_sum_alarms_prev14d       621300 non-null  float64\n",
            " 14  skew_temperature_alarms_prev14d      621300 non-null  float64\n",
            " 15  mean_wind_speed_f_next14d            621300 non-null  float64\n",
            " 16  max_rain_mm_f_next14d                621300 non-null  float64\n",
            " 17  min_humidity_prev7d                  621300 non-null  float64\n",
            " 18  mean_humidity_prev7d                 621300 non-null  float64\n",
            " 19  max_humidity_f_next14d               621300 non-null  float64\n",
            " 20  min_humidity_f_next14d               621300 non-null  float64\n",
            " 21  mean_temperature_f_next7d            621300 non-null  float64\n",
            " 22  mean_humidity_f_next7d               621300 non-null  float64\n",
            " 23  max_rain_mm_prev7d                   621300 non-null  float64\n",
            " 24  min_humidity_f_next7d                621300 non-null  float64\n",
            " 25  temperature_mean_persistance_prev7d  621300 non-null  float64\n",
            " 26  mean_pressure_f_next14d              621300 non-null  float64\n",
            " 27  mean_rain_mm_f_next7d                621300 non-null  float64\n",
            " 28  mean_wind_speed_prev7d               621300 non-null  float64\n",
            " 29  mean_wind_speed_f_next7d             621300 non-null  float64\n",
            "dtypes: float64(30)\n",
            "memory usage: 142.2 MB\n"
          ],
          "name": "stdout"
        }
      ]
    },
    {
      "cell_type": "markdown",
      "metadata": {
        "id": "nTa__rghU5at"
      },
      "source": [
        "# Final data set to use\r\n",
        "\r\n",
        "\r\n",
        "\r\n"
      ]
    },
    {
      "cell_type": "code",
      "metadata": {
        "colab": {
          "base_uri": "https://localhost:8080/"
        },
        "id": "6cUJitEzFkUD",
        "outputId": "4a187d52-0071-40c2-d45d-b07ec12f1116"
      },
      "source": [
        "x = data3.iloc[:,:].values\r\n",
        "y = df['aircon_sum_target_next14d'].values\r\n",
        "y"
      ],
      "execution_count": 8,
      "outputs": [
        {
          "output_type": "execute_result",
          "data": {
            "text/plain": [
              "array([0, 0, 0, ..., 0, 0, 0])"
            ]
          },
          "metadata": {
            "tags": []
          },
          "execution_count": 8
        }
      ]
    },
    {
      "cell_type": "markdown",
      "metadata": {
        "id": "-Mt_7xDSFWNR"
      },
      "source": [
        "Columns i used:\r\n",
        "['N_TRANSPORTED_SITES', 'kurt_equipment_alarms_prev14d',\r\n",
        "       'kurt_power_alarms_prev14d', 'aircon_sum_wo_prev14d',\r\n",
        "       'kurt_ge_alarms_prev14d', 'kurt_temperature_alarms_prev14d',\r\n",
        "       'kurt_fire/smoke_alarms_prev14d', 'skew_equipment_alarms_prev14d',\r\n",
        "       'aircon_sum_wo_prev7d', 'mean_rain_mm_f_next14d',\r\n",
        "       'mean_humidity_f_next14d', 'equipment_sum_alarms_prev14d',\r\n",
        "       'mean_temperature_f_next14d', 'temperature_sum_alarms_prev14d',\r\n",
        "       'skew_temperature_alarms_prev14d', 'mean_wind_speed_f_next14d',\r\n",
        "       'max_rain_mm_f_next14d', 'min_humidity_prev7d', 'mean_humidity_prev7d',\r\n",
        "       'max_humidity_f_next14d', 'min_humidity_f_next14d',\r\n",
        "       'mean_temperature_f_next7d', 'mean_humidity_f_next7d',\r\n",
        "       'max_rain_mm_prev7d', 'min_humidity_f_next7d',\r\n",
        "       'temperature_mean_persistance_prev7d', 'mean_pressure_f_next14d',\r\n",
        "       'mean_rain_mm_f_next7d', 'mean_wind_speed_prev7d',\r\n",
        "       'mean_wind_speed_f_next7d']\r\n"
      ]
    },
    {
      "cell_type": "markdown",
      "metadata": {
        "id": "9rM_pYOJCZM0"
      },
      "source": [
        "# Training Random Forest"
      ]
    },
    {
      "cell_type": "code",
      "metadata": {
        "id": "klEi9o4bIHp5"
      },
      "source": [
        "from sklearn.model_selection import train_test_split\r\n",
        "x_train,x_test,y_train,y_test = train_test_split (x,y, test_size=0.2, random_state=0)"
      ],
      "execution_count": 13,
      "outputs": []
    },
    {
      "cell_type": "code",
      "metadata": {
        "colab": {
          "base_uri": "https://localhost:8080/"
        },
        "id": "rWnVoJOhCZM0",
        "outputId": "700716a9-8752-4d07-8c20-636fd7389a75"
      },
      "source": [
        "# Training the model\n",
        "from sklearn.ensemble import RandomForestClassifier\n",
        "classifier = RandomForestClassifier(n_estimators=10,criterion='entropy', random_state=0)\n",
        "classifier.fit(x,y)"
      ],
      "execution_count": 14,
      "outputs": [
        {
          "output_type": "execute_result",
          "data": {
            "text/plain": [
              "RandomForestClassifier(bootstrap=True, ccp_alpha=0.0, class_weight=None,\n",
              "                       criterion='entropy', max_depth=None, max_features='auto',\n",
              "                       max_leaf_nodes=None, max_samples=None,\n",
              "                       min_impurity_decrease=0.0, min_impurity_split=None,\n",
              "                       min_samples_leaf=1, min_samples_split=2,\n",
              "                       min_weight_fraction_leaf=0.0, n_estimators=10,\n",
              "                       n_jobs=None, oob_score=False, random_state=0, verbose=0,\n",
              "                       warm_start=False)"
            ]
          },
          "metadata": {
            "tags": []
          },
          "execution_count": 14
        }
      ]
    },
    {
      "cell_type": "code",
      "metadata": {
        "id": "hRpZfxj-CZM0"
      },
      "source": [
        "# Predict Y on the test set\n",
        "y_pred = classifier.predict(x_test)"
      ],
      "execution_count": 15,
      "outputs": []
    },
    {
      "cell_type": "code",
      "metadata": {
        "colab": {
          "base_uri": "https://localhost:8080/"
        },
        "id": "NDCuqrR7CZM1",
        "outputId": "977ae3c5-9993-4d7a-c68f-9f98e7b6e01c"
      },
      "source": [
        "# Obtain the results from the classification report and confusion matrix \n",
        "from sklearn.metrics import  classification_report, confusion_matrix \n",
        "\n",
        "print('Classifcation report:\\n', classification_report(y_test, y_pred))\n",
        "conf_mat = confusion_matrix(y_true=y_test, y_pred=y_pred)\n",
        "print('Confusion matrix:\\n', conf_mat)"
      ],
      "execution_count": 16,
      "outputs": [
        {
          "output_type": "stream",
          "text": [
            "Classifcation report:\n",
            "               precision    recall  f1-score   support\n",
            "\n",
            "           0       1.00      1.00      1.00    123573\n",
            "           1       0.99      0.89      0.94       687\n",
            "\n",
            "    accuracy                           1.00    124260\n",
            "   macro avg       0.99      0.95      0.97    124260\n",
            "weighted avg       1.00      1.00      1.00    124260\n",
            "\n",
            "Confusion matrix:\n",
            " [[123566      7]\n",
            " [    74    613]]\n"
          ],
          "name": "stdout"
        }
      ]
    },
    {
      "cell_type": "markdown",
      "metadata": {
        "id": "FyaDyPxICZM1"
      },
      "source": [
        "# Undersampling\r\n",
        "try this one, oversample one, SMOTE\r\n"
      ]
    },
    {
      "cell_type": "code",
      "metadata": {
        "colab": {
          "base_uri": "https://localhost:8080/"
        },
        "id": "D8-_SZ5dCZM1",
        "outputId": "4c6d9e76-c871-4773-a306-dd1e577b1f92"
      },
      "source": [
        "# This is the pipeline module we need from imblearn\n",
        "from imblearn.under_sampling import RandomUnderSampler\n",
        "from imblearn.pipeline import Pipeline \n",
        "\n",
        "# Define which resampling method and which ML model to use in the pipeline\n",
        "resampling = RandomUnderSampler()\n",
        "model = RandomForestClassifier(n_estimators=10,criterion='entropy', random_state=0)\n",
        "\n",
        "# Define the pipeline,and combine sampling method with the RF model\n",
        "pipeline = Pipeline([('RandomUnderSampler', resampling), ('RF', model)])\n",
        "\n",
        "pipeline.fit(x_train, y_train) \n",
        "predicted = pipeline.predict(x_test)\n",
        "\n",
        "# Obtain the results from the classification report and confusion matrix \n",
        "print('Classifcation report:\\n', classification_report(y_test, predicted))\n",
        "conf_mat = confusion_matrix(y_true=y_test, y_pred=predicted)\n",
        "print('Confusion matrix:\\n', conf_mat)"
      ],
      "execution_count": 17,
      "outputs": [
        {
          "output_type": "stream",
          "text": [
            "/usr/local/lib/python3.6/dist-packages/sklearn/utils/deprecation.py:87: FutureWarning: Function safe_indexing is deprecated; safe_indexing is deprecated in version 0.22 and will be removed in version 0.24.\n",
            "  warnings.warn(msg, category=FutureWarning)\n"
          ],
          "name": "stderr"
        },
        {
          "output_type": "stream",
          "text": [
            "Classifcation report:\n",
            "               precision    recall  f1-score   support\n",
            "\n",
            "           0       1.00      0.86      0.92    123573\n",
            "           1       0.03      0.90      0.07       687\n",
            "\n",
            "    accuracy                           0.86    124260\n",
            "   macro avg       0.52      0.88      0.50    124260\n",
            "weighted avg       0.99      0.86      0.92    124260\n",
            "\n",
            "Confusion matrix:\n",
            " [[106243  17330]\n",
            " [    66    621]]\n"
          ],
          "name": "stdout"
        }
      ]
    },
    {
      "cell_type": "markdown",
      "metadata": {
        "id": "tvnBtQeHCZM2"
      },
      "source": [
        "# Oversampling"
      ]
    },
    {
      "cell_type": "code",
      "metadata": {
        "colab": {
          "base_uri": "https://localhost:8080/"
        },
        "id": "E9avLVc7CZM2",
        "outputId": "482f9bee-7d79-43c8-c01a-18c1d59d06e1"
      },
      "source": [
        "# This is the pipeline module we need from imblearn\n",
        "from imblearn.over_sampling import RandomOverSampler\n",
        "\n",
        "# Define which resampling method and which ML model to use in the pipeline\n",
        "resampling = RandomOverSampler()\n",
        "model = RandomForestClassifier(n_estimators=10,criterion='entropy', random_state=0)\n",
        "\n",
        "# Define the pipeline,and combine sampling method with the RF model\n",
        "pipeline = Pipeline([('RandomOverSampler', resampling), ('RF', model)])\n",
        "\n",
        "pipeline.fit(x_train, y_train) \n",
        "predicted = pipeline.predict(x_test)\n",
        "\n",
        "# Obtain the results from the classification report and confusion matrix \n",
        "print('Classifcation report:\\n', classification_report(y_test, predicted))\n",
        "conf_mat = confusion_matrix(y_true=y_test, y_pred=predicted)\n",
        "print('Confusion matrix:\\n', conf_mat)"
      ],
      "execution_count": 18,
      "outputs": [
        {
          "output_type": "stream",
          "text": [
            "/usr/local/lib/python3.6/dist-packages/sklearn/utils/deprecation.py:87: FutureWarning: Function safe_indexing is deprecated; safe_indexing is deprecated in version 0.22 and will be removed in version 0.24.\n",
            "  warnings.warn(msg, category=FutureWarning)\n"
          ],
          "name": "stderr"
        },
        {
          "output_type": "stream",
          "text": [
            "Classifcation report:\n",
            "               precision    recall  f1-score   support\n",
            "\n",
            "           0       1.00      1.00      1.00    123573\n",
            "           1       0.75      0.41      0.53       687\n",
            "\n",
            "    accuracy                           1.00    124260\n",
            "   macro avg       0.87      0.71      0.77    124260\n",
            "weighted avg       1.00      1.00      1.00    124260\n",
            "\n",
            "Confusion matrix:\n",
            " [[123477     96]\n",
            " [   403    284]]\n"
          ],
          "name": "stdout"
        }
      ]
    },
    {
      "cell_type": "markdown",
      "metadata": {
        "id": "RPzFTkIfCZM3"
      },
      "source": [
        "\r\n",
        "\r\n",
        "# SMOTE \r\n"
      ]
    },
    {
      "cell_type": "code",
      "metadata": {
        "colab": {
          "base_uri": "https://localhost:8080/"
        },
        "id": "ozlh_A3wCZM3",
        "outputId": "1f62fc6e-0d3e-48be-d49f-99c4dee58e0b"
      },
      "source": [
        "# This is the pipeline module we need from imblearn\n",
        "from imblearn.over_sampling import SMOTE\n",
        "# Define which resampling method and which ML model to use in the pipeline\n",
        "resampling = SMOTE(sampling_strategy='auto',random_state=0)\n",
        "model = RandomForestClassifier(n_estimators=10,criterion='entropy', random_state=0)\n",
        "\n",
        "# Define the pipeline, tell it to combine SMOTE with the RF model\n",
        "pipeline = Pipeline([('SMOTE', resampling), ('RF', model)])\n",
        "\n",
        "pipeline.fit(x_train, y_train) \n",
        "predicted = pipeline.predict(x_test)\n",
        "\n",
        "# Obtain the results from the classification report and confusion matrix \n",
        "print('Classifcation report:\\n', classification_report(y_test, predicted))\n",
        "conf_mat = confusion_matrix(y_true=y_test, y_pred=predicted)\n",
        "print('Confusion matrix:\\n', conf_mat)"
      ],
      "execution_count": 19,
      "outputs": [
        {
          "output_type": "stream",
          "text": [
            "/usr/local/lib/python3.6/dist-packages/sklearn/utils/deprecation.py:87: FutureWarning: Function safe_indexing is deprecated; safe_indexing is deprecated in version 0.22 and will be removed in version 0.24.\n",
            "  warnings.warn(msg, category=FutureWarning)\n"
          ],
          "name": "stderr"
        },
        {
          "output_type": "stream",
          "text": [
            "Classifcation report:\n",
            "               precision    recall  f1-score   support\n",
            "\n",
            "           0       1.00      1.00      1.00    123573\n",
            "           1       0.80      0.53      0.64       687\n",
            "\n",
            "    accuracy                           1.00    124260\n",
            "   macro avg       0.90      0.76      0.82    124260\n",
            "weighted avg       1.00      1.00      1.00    124260\n",
            "\n",
            "Confusion matrix:\n",
            " [[123485     88]\n",
            " [   326    361]]\n"
          ],
          "name": "stdout"
        }
      ]
    },
    {
      "cell_type": "markdown",
      "metadata": {
        "id": "3T54PjH4NJFQ"
      },
      "source": [
        "# Under+Over sampling together\r\n",
        "\r\n"
      ]
    },
    {
      "cell_type": "code",
      "metadata": {
        "colab": {
          "base_uri": "https://localhost:8080/"
        },
        "id": "Jn9W3GvICZM4",
        "outputId": "b75b5a00-9bea-4bf8-c7e4-aa64f0fef69e"
      },
      "source": [
        "# define model\r\n",
        "model = RandomForestClassifier()\r\n",
        "# define resampling\r\n",
        "over = RandomOverSampler(sampling_strategy=0.01)\r\n",
        "under = RandomUnderSampler(sampling_strategy=0.6)\r\n",
        "# define pipeline\r\n",
        "pipeline = Pipeline(steps=[('o', over), ('u', under), ('m', model)])\r\n",
        "# define evaluation procedure\r\n",
        "cv = RepeatedStratifiedKFold(n_splits=10, n_repeats=3, random_state=1)\r\n",
        "# evaluate model\r\n",
        "scores = cross_val_score(pipeline, x, y, scoring='roc_auc', cv=cv, n_jobs=-1)\r\n",
        "# summarize performance\r\n",
        "print('Mean ROC AUC: %.3f' % mean(scores))\r\n",
        "scores = cross_val_score(pipeline, x, y, scoring='f1', cv=cv, n_jobs=-1)\r\n",
        "# summarize performance\r\n",
        "print('f1: %.3f' % mean(scores))"
      ],
      "execution_count": 20,
      "outputs": [
        {
          "output_type": "stream",
          "text": [
            "Mean ROC AUC: 0.986\n",
            "f1: 0.228\n"
          ],
          "name": "stdout"
        }
      ]
    },
    {
      "cell_type": "markdown",
      "metadata": {
        "id": "pQqSCXiMV9Rw"
      },
      "source": [
        "# SMOTE + ENN\r\n",
        "\r\n"
      ]
    },
    {
      "cell_type": "code",
      "metadata": {
        "colab": {
          "base_uri": "https://localhost:8080/"
        },
        "id": "jXpiWUMWMkCz",
        "outputId": "6513dfd8-7074-4fe9-bc96-187c007ef732"
      },
      "source": [
        "from collections import Counter\r\n",
        "from sklearn.datasets import make_classification\r\n",
        "from imblearn.combine import SMOTEENN\r\n",
        "\r\n",
        "sme = SMOTEENN(random_state=42)\r\n",
        "X_res, y_res = sme.fit_resample(x, y)\r\n",
        "print('Resampled dataset shape %s' % Counter(y_res))"
      ],
      "execution_count": null,
      "outputs": [
        {
          "output_type": "stream",
          "text": [
            "/usr/local/lib/python3.6/dist-packages/sklearn/utils/deprecation.py:87: FutureWarning: Function safe_indexing is deprecated; safe_indexing is deprecated in version 0.22 and will be removed in version 0.24.\n",
            "  warnings.warn(msg, category=FutureWarning)\n"
          ],
          "name": "stderr"
        }
      ]
    },
    {
      "cell_type": "code",
      "metadata": {
        "id": "aiqbrA3XTsqk"
      },
      "source": [
        "from sklearn.model_selection import train_test_split\r\n",
        "x_train,x_test,y_train,y_test = train_test_split (X_res,y_res, test_size=0.2, random_state=0)\r\n",
        "# Training the model\r\n",
        "from sklearn.ensemble import RandomForestClassifier\r\n",
        "classifier = RandomForestClassifier(n_estimators=10,criterion='entropy', random_state=0)\r\n",
        "classifier.fit(X_res,y_res)\r\n",
        "# Predict Y on the test set\r\n",
        "y_pred = classifier.predict(x_test)\r\n",
        "# Obtain the results from the classification report and confusion matrix \r\n",
        "from sklearn.metrics import  classification_report, confusion_matrix \r\n",
        "\r\n",
        "print('Classifcation report:\\n', classification_report(y_test, y_pred))\r\n",
        "conf_mat = confusion_matrix(y_true=y_test, y_pred=y_pred)\r\n",
        "print('Confusion matrix:\\n', conf_mat)"
      ],
      "execution_count": null,
      "outputs": []
    },
    {
      "cell_type": "code",
      "metadata": {
        "id": "hBTR0ZN1UR-T"
      },
      "source": [
        ""
      ],
      "execution_count": null,
      "outputs": []
    }
  ]
}